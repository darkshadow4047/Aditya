{
  "nbformat": 4,
  "nbformat_minor": 0,
  "metadata": {
    "colab": {
      "provenance": [],
      "authorship_tag": "ABX9TyNDBCYeGheiPGVtWkKLBLOT",
      "include_colab_link": true
    },
    "kernelspec": {
      "name": "python3",
      "display_name": "Python 3"
    },
    "language_info": {
      "name": "python"
    }
  },
  "cells": [
    {
      "cell_type": "markdown",
      "metadata": {
        "id": "view-in-github",
        "colab_type": "text"
      },
      "source": [
        "<a href=\"https://colab.research.google.com/github/darkshadow4047/Aditya/blob/main/Functions_Module.ipynb\" target=\"_parent\"><img src=\"https://colab.research.google.com/assets/colab-badge.svg\" alt=\"Open In Colab\"/></a>"
      ]
    },
    {
      "cell_type": "code",
      "execution_count": null,
      "metadata": {
        "id": "BxxIEXRB2M6k"
      },
      "outputs": [],
      "source": [
        " #Theory Questions"
      ]
    },
    {
      "cell_type": "code",
      "source": [
        "# 1.Functions can be called by its name, followed by parentheses and any necessary arguments whereas we need to use dot operator to call an object.\n",
        "\n",
        "# For example functions can be called greet(\"Alice\")) Whereas we need to call object by using a.alice."
      ],
      "metadata": {
        "id": "HNlgC5R02Nxn"
      },
      "execution_count": null,
      "outputs": []
    },
    {
      "cell_type": "code",
      "source": [
        "# 2.Parameters are the variables defined within the parentheses of a function definition. They act as placeholders for the values that will be passed to the function when it's called.\n",
        "\n",
        "# Arguments are the actual values that are passed to a function when it's called. These values are used to replace the corresponding parameters within the function's definition.\n",
        "\n",
        "\n",
        "# Example  def printt(name):\n",
        "    #print(f\"Hello, {name}!\")\n",
        "\n",
        "#def printt(name=\"Aditya\"):\n",
        "    #print(f\"Hello, {name}!\")"
      ],
      "metadata": {
        "id": "q-VJOiGh2N0-"
      },
      "execution_count": 19,
      "outputs": []
    },
    {
      "cell_type": "code",
      "source": [
        "#3.Functions can be called with or without arguments.\n",
        "#result = function_name(argument1, argument2, ...)"
      ],
      "metadata": {
        "id": "WFLaxNXk2N3-"
      },
      "execution_count": 21,
      "outputs": []
    },
    {
      "cell_type": "code",
      "source": [
        "#4. The return statement in Python is used to return an output or to stop execution of a function\n",
        "\n",
        "#example\n",
        "\n",
        "def add(x, y):\n",
        "    return x + y\n",
        "\n",
        "if __name__ == \"__main__\":\n",
        "   result = add(5, 3)"
      ],
      "metadata": {
        "id": "_1vfI9MD2N60"
      },
      "execution_count": 26,
      "outputs": []
    },
    {
      "cell_type": "code",
      "source": [
        "#5.\n",
        "\n",
        "# An iterable is any object that can be looped over.\n",
        "\n",
        "# An iterator is an object that allows you to traverse through a collection of data one element at a time.\n",
        "\n",
        "my_list = [33, 23, 92]\n",
        "\n",
        "my_iterator = iter(my_list)\n",
        "\n",
        "print(next(my_iterator))\n",
        "print(next(my_iterator))\n",
        "print(next(my_iterator))\n",
        "print(next(my_iterator))"
      ],
      "metadata": {
        "colab": {
          "base_uri": "https://localhost:8080/",
          "height": 297
        },
        "id": "qxJADRD4pbSc",
        "outputId": "815a7d0c-2151-4aae-f640-14d2a1b25523"
      },
      "execution_count": 28,
      "outputs": [
        {
          "output_type": "stream",
          "name": "stdout",
          "text": [
            "33\n",
            "23\n",
            "92\n"
          ]
        },
        {
          "output_type": "error",
          "ename": "StopIteration",
          "evalue": "",
          "traceback": [
            "\u001b[0;31m---------------------------------------------------------------------------\u001b[0m",
            "\u001b[0;31mStopIteration\u001b[0m                             Traceback (most recent call last)",
            "\u001b[0;32m<ipython-input-28-88ee298bf59b>\u001b[0m in \u001b[0;36m<cell line: 0>\u001b[0;34m()\u001b[0m\n\u001b[1;32m     12\u001b[0m \u001b[0mprint\u001b[0m\u001b[0;34m(\u001b[0m\u001b[0mnext\u001b[0m\u001b[0;34m(\u001b[0m\u001b[0mmy_iterator\u001b[0m\u001b[0;34m)\u001b[0m\u001b[0;34m)\u001b[0m\u001b[0;34m\u001b[0m\u001b[0;34m\u001b[0m\u001b[0m\n\u001b[1;32m     13\u001b[0m \u001b[0mprint\u001b[0m\u001b[0;34m(\u001b[0m\u001b[0mnext\u001b[0m\u001b[0;34m(\u001b[0m\u001b[0mmy_iterator\u001b[0m\u001b[0;34m)\u001b[0m\u001b[0;34m)\u001b[0m\u001b[0;34m\u001b[0m\u001b[0;34m\u001b[0m\u001b[0m\n\u001b[0;32m---> 14\u001b[0;31m \u001b[0mprint\u001b[0m\u001b[0;34m(\u001b[0m\u001b[0mnext\u001b[0m\u001b[0;34m(\u001b[0m\u001b[0mmy_iterator\u001b[0m\u001b[0;34m)\u001b[0m\u001b[0;34m)\u001b[0m\u001b[0;34m\u001b[0m\u001b[0;34m\u001b[0m\u001b[0m\n\u001b[0m",
            "\u001b[0;31mStopIteration\u001b[0m: "
          ]
        }
      ]
    },
    {
      "cell_type": "code",
      "source": [
        "\n",
        "#6.\n",
        "\n",
        "# Generators in Python are a special type of function that returns an iterator. Unlike regular functions that return a single value and then terminate.\n",
        "\n",
        "#Generators can yield a series of values over time.\n",
        "\n",
        "def my_generator(n):\n",
        "\n",
        "  for i in range(n):\n",
        "    yield i\n",
        "\n",
        "for number in my_generator(5):\n",
        "  print(number)"
      ],
      "metadata": {
        "colab": {
          "base_uri": "https://localhost:8080/"
        },
        "id": "57wF5Oi2qA_B",
        "outputId": "500d50d2-7eee-4d7c-c17c-1df3ec814d6c"
      },
      "execution_count": 30,
      "outputs": [
        {
          "output_type": "stream",
          "name": "stdout",
          "text": [
            "0\n",
            "1\n",
            "2\n",
            "3\n",
            "4\n"
          ]
        }
      ]
    },
    {
      "cell_type": "code",
      "source": [
        "#7.\n",
        "\n",
        "# Generators produce values one at a time, on demand. This means they don't need to store the entire sequence of values in memory at once.\n",
        "\n",
        "\n",
        "def generate_large_numbers(limit):\n",
        "  numbers = []\n",
        "  for i in range(limit):\n",
        "    numbers.append(i * i * i)\n",
        "  return numbers\n",
        "\n",
        "\n",
        "large_numbers = generate_large_numbers(1000000)"
      ],
      "metadata": {
        "id": "zqRog3-Sq0DI"
      },
      "execution_count": 31,
      "outputs": []
    },
    {
      "cell_type": "code",
      "source": [
        "#8.\n",
        "\n",
        "#Lambda functions are small, anonymous functions defined using the lambda keyword.They are often used for simple, one-line operations.\n",
        "\n",
        "\n",
        "square = lambda x: x * x\n",
        "\n",
        "result = square(23)"
      ],
      "metadata": {
        "id": "vcjK_FC-rQsM"
      },
      "execution_count": 33,
      "outputs": []
    },
    {
      "cell_type": "code",
      "source": [
        "#9.\n",
        "\n",
        "# Map() function in Python is a powerful tool for applying a given function to each item in an iterable (like a list, tuple, or set) and returning an iterator that yields the results.\n",
        "\n",
        "\n",
        "numbers = [1, 6, 8, 24, 12]\n",
        "\n",
        "\n",
        "squared_numbers = map(lambda x: x * x, numbers)\n",
        "print(list(squared_numbers))\n",
        "\n",
        "\n",
        "names = [\"alice\", \"bob\", \"charlie\"]\n",
        "upper_names = map(str.upper, names)\n",
        "print(list(upper_names))  # Output: ['ALICE', 'BOB', 'CHARLIE']"
      ],
      "metadata": {
        "colab": {
          "base_uri": "https://localhost:8080/"
        },
        "id": "Lzc0Ru_3rrr0",
        "outputId": "207b0054-dbe2-4133-a4eb-2645133a445d"
      },
      "execution_count": 35,
      "outputs": [
        {
          "output_type": "stream",
          "name": "stdout",
          "text": [
            "[1, 36, 64, 576, 144]\n",
            "['ALICE', 'BOB', 'CHARLIE']\n"
          ]
        }
      ]
    },
    {
      "cell_type": "code",
      "source": [
        "#10.\n",
        "\n",
        "'''\n",
        "\n",
        "Map transforms each element in the iterable.\n",
        "\n",
        "Filter selects elements based on a condition.\n",
        "\n",
        "Reduce aggregates elements into a single value.\n",
        "\n",
        "\n",
        "'''"
      ],
      "metadata": {
        "colab": {
          "base_uri": "https://localhost:8080/",
          "height": 105
        },
        "id": "gCX4fbO8sUVa",
        "outputId": "b7c0cc90-4637-42ee-8020-dc2192760c41"
      },
      "execution_count": 36,
      "outputs": [
        {
          "output_type": "execute_result",
          "data": {
            "text/plain": [
              "' \\n\\nMap transforms each element in the iterable.\\n\\nFilter selects elements based on a condition.\\n\\nReduce aggregates elements into a single value.\\n\\n\\n'"
            ],
            "application/vnd.google.colaboratory.intrinsic+json": {
              "type": "string"
            }
          },
          "metadata": {},
          "execution_count": 36
        }
      ]
    },
    {
      "cell_type": "code",
      "source": [
        "#Python Practical Questions"
      ],
      "metadata": {
        "id": "S6ayZDGc2ODj"
      },
      "execution_count": null,
      "outputs": []
    },
    {
      "cell_type": "code",
      "source": [
        "#1.\n",
        "\n",
        "def sum_of_even(num):\n",
        "    sum = 0\n",
        "    for x in num:\n",
        "        if x % 2 == 0:\n",
        "           sum = sum + x\n",
        "    return sum\n",
        "\n",
        "lists = [1,2,3,4,5,6,7,8,9,10]\n",
        "y = sum_of_even(lists)\n",
        "print(f\"Sum of even numbers is {y}\")"
      ],
      "metadata": {
        "colab": {
          "base_uri": "https://localhost:8080/"
        },
        "id": "Yr6VVkKM2S37",
        "outputId": "afa4a3c0-515b-47cb-bad5-6de0e516c6c5"
      },
      "execution_count": null,
      "outputs": [
        {
          "output_type": "stream",
          "name": "stdout",
          "text": [
            "Sum of even numbers is 30\n"
          ]
        }
      ]
    },
    {
      "cell_type": "code",
      "source": [
        "#2.\n",
        "\n",
        "def reverse_str():\n",
        "   x = input(\"enter a string\\n\")\n",
        "   y = x[::-1]\n",
        "   return y\n",
        "\n",
        "\n",
        "\n",
        "z = reverse_str()\n",
        "print(f\"The reversed string is {z}\")"
      ],
      "metadata": {
        "colab": {
          "base_uri": "https://localhost:8080/"
        },
        "id": "HJqtmbvN2e_M",
        "outputId": "fec84148-a80b-426f-c654-0147b35bf0a1"
      },
      "execution_count": null,
      "outputs": [
        {
          "output_type": "stream",
          "name": "stdout",
          "text": [
            "enter a string\n",
            "Aditya\n",
            "The reversed string is aytidA\n"
          ]
        }
      ]
    },
    {
      "cell_type": "code",
      "source": [
        "#3.\n",
        "\n",
        "def sq_of_num(numbers):\n",
        "    sq_list = []\n",
        "    for num in numbers:\n",
        "        sq_list.append(num*num)\n",
        "    return sq_list\n",
        "my_list = [1,2,3,4,5]\n",
        "result = sq_of_num(my_list)\n",
        "print(\"Original list:\", my_list)\n",
        "print(\"List of squares:\", result)"
      ],
      "metadata": {
        "colab": {
          "base_uri": "https://localhost:8080/"
        },
        "id": "qYSBT6ANNba2",
        "outputId": "ce666ecb-c9b6-41f4-9420-cb4c35b238ae"
      },
      "execution_count": null,
      "outputs": [
        {
          "output_type": "stream",
          "name": "stdout",
          "text": [
            "Original list: [1, 2, 3, 4, 5]\n",
            "List of squares: [1, 4, 9, 16, 25]\n"
          ]
        }
      ]
    },
    {
      "cell_type": "code",
      "source": [
        "\n",
        "#4.\n",
        "def is_prime(n):\n",
        "  if n <= 1:\n",
        "    return False\n",
        "  for i in range(2, int(n**0.5) + 1):\n",
        "    if n % i == 0:\n",
        "      return False\n",
        "  return True\n",
        "\n",
        "for num in range(1, 201):\n",
        "  if is_prime(num):\n",
        "    print(num, end=\" \")"
      ],
      "metadata": {
        "colab": {
          "base_uri": "https://localhost:8080/"
        },
        "id": "fo_Slp-8gNmc",
        "outputId": "4f3ed3c5-cdd6-4cd5-85c0-b32dfee09d29"
      },
      "execution_count": 5,
      "outputs": [
        {
          "output_type": "stream",
          "name": "stdout",
          "text": [
            "2 3 5 7 11 13 17 19 23 29 31 37 41 43 47 53 59 61 67 71 73 79 83 89 97 101 103 107 109 113 127 131 137 139 149 151 157 163 167 173 179 181 191 193 197 199 "
          ]
        }
      ]
    },
    {
      "cell_type": "code",
      "source": [
        "\n",
        "#5.\n",
        "class FibonacciIterator:\n",
        "\n",
        "\n",
        "    def __init__(self, count):\n",
        "\n",
        "        self.count = count\n",
        "        self.a = 0\n",
        "        self.b = 1\n",
        "        self.current = 0\n",
        "\n",
        "    def __iter__(self):\n",
        "\n",
        "        return self\n",
        "\n",
        "    def __next__(self):\n",
        "\n",
        "        if self.current < self.count:\n",
        "            result = self.a\n",
        "            self.a, self.b = self.b, self.a + self.b\n",
        "            self.current += 1\n",
        "            return result\n",
        "        else:\n",
        "            raise StopIteration\n",
        "\n",
        "fib_iterator = FibonacciIterator(10)  # Generate the first 10 Fibonacci numbers\n",
        "\n",
        "for num in fib_iterator:\n",
        "    print(num, end=\" \")"
      ],
      "metadata": {
        "colab": {
          "base_uri": "https://localhost:8080/"
        },
        "id": "Hog9APvxgw4z",
        "outputId": "6ea0c7eb-dff9-4446-ce3c-87b2dbcc2274"
      },
      "execution_count": 4,
      "outputs": [
        {
          "output_type": "stream",
          "name": "stdout",
          "text": [
            "0 1 1 2 3 5 8 13 21 34 "
          ]
        }
      ]
    },
    {
      "cell_type": "code",
      "source": [
        "#6.\n",
        "\n",
        "def powers_of_two(exponent):\n",
        "  power = 1\n",
        "  for i in range(exponent + 1):\n",
        "    yield power\n",
        "    power *= 2\n",
        "\n",
        "\n",
        "for power in powers_of_two(5):\n",
        "  print(power)"
      ],
      "metadata": {
        "colab": {
          "base_uri": "https://localhost:8080/"
        },
        "id": "NS-tkKT1hESu",
        "outputId": "72fb4b92-f490-4690-c571-512f0e706754"
      },
      "execution_count": 6,
      "outputs": [
        {
          "output_type": "stream",
          "name": "stdout",
          "text": [
            "1\n",
            "2\n",
            "4\n",
            "8\n",
            "16\n",
            "32\n"
          ]
        }
      ]
    },
    {
      "cell_type": "code",
      "source": [
        "#7.\n",
        "\n",
        "def read_file_lines(filename):\n",
        "\n",
        "  with open(filename, 'r') as file:\n",
        "    for line in file:\n",
        "      yield line.strip()\n",
        "\n",
        "\n",
        "for line in read_file_lines(\"Python_Functions_Assignment.docx\"):\n",
        "  print(line)"
      ],
      "metadata": {
        "colab": {
          "base_uri": "https://localhost:8080/",
          "height": 508
        },
        "collapsed": true,
        "id": "TGHNpvDnhf8s",
        "outputId": "f1514685-2d70-40c7-8c37-7007cbd0b960"
      },
      "execution_count": 17,
      "outputs": [
        {
          "output_type": "error",
          "ename": "FileNotFoundError",
          "evalue": "[Errno 2] No such file or directory: 'Python_Functions_Assignment.docx'",
          "traceback": [
            "\u001b[0;31m---------------------------------------------------------------------------\u001b[0m",
            "\u001b[0;31mFileNotFoundError\u001b[0m                         Traceback (most recent call last)",
            "\u001b[0;32m<ipython-input-17-4c237a85b47d>\u001b[0m in \u001b[0;36m<cell line: 0>\u001b[0;34m()\u001b[0m\n\u001b[1;32m      8\u001b[0m \u001b[0;34m\u001b[0m\u001b[0m\n\u001b[1;32m      9\u001b[0m \u001b[0;34m\u001b[0m\u001b[0m\n\u001b[0;32m---> 10\u001b[0;31m \u001b[0;32mfor\u001b[0m \u001b[0mline\u001b[0m \u001b[0;32min\u001b[0m \u001b[0mread_file_lines\u001b[0m\u001b[0;34m(\u001b[0m\u001b[0;34m\"Python_Functions_Assignment.docx\"\u001b[0m\u001b[0;34m)\u001b[0m\u001b[0;34m:\u001b[0m\u001b[0;34m\u001b[0m\u001b[0;34m\u001b[0m\u001b[0m\n\u001b[0m\u001b[1;32m     11\u001b[0m   \u001b[0mprint\u001b[0m\u001b[0;34m(\u001b[0m\u001b[0mline\u001b[0m\u001b[0;34m)\u001b[0m\u001b[0;34m\u001b[0m\u001b[0;34m\u001b[0m\u001b[0m\n",
            "\u001b[0;32m<ipython-input-17-4c237a85b47d>\u001b[0m in \u001b[0;36mread_file_lines\u001b[0;34m(filename)\u001b[0m\n\u001b[1;32m      3\u001b[0m \u001b[0;32mdef\u001b[0m \u001b[0mread_file_lines\u001b[0m\u001b[0;34m(\u001b[0m\u001b[0mfilename\u001b[0m\u001b[0;34m)\u001b[0m\u001b[0;34m:\u001b[0m\u001b[0;34m\u001b[0m\u001b[0;34m\u001b[0m\u001b[0m\n\u001b[1;32m      4\u001b[0m \u001b[0;34m\u001b[0m\u001b[0m\n\u001b[0;32m----> 5\u001b[0;31m   \u001b[0;32mwith\u001b[0m \u001b[0mopen\u001b[0m\u001b[0;34m(\u001b[0m\u001b[0mfilename\u001b[0m\u001b[0;34m,\u001b[0m \u001b[0;34m'r'\u001b[0m\u001b[0;34m)\u001b[0m \u001b[0;32mas\u001b[0m \u001b[0mfile\u001b[0m\u001b[0;34m:\u001b[0m\u001b[0;34m\u001b[0m\u001b[0;34m\u001b[0m\u001b[0m\n\u001b[0m\u001b[1;32m      6\u001b[0m     \u001b[0;32mfor\u001b[0m \u001b[0mline\u001b[0m \u001b[0;32min\u001b[0m \u001b[0mfile\u001b[0m\u001b[0;34m:\u001b[0m\u001b[0;34m\u001b[0m\u001b[0;34m\u001b[0m\u001b[0m\n\u001b[1;32m      7\u001b[0m       \u001b[0;32myield\u001b[0m \u001b[0mline\u001b[0m\u001b[0;34m.\u001b[0m\u001b[0mstrip\u001b[0m\u001b[0;34m(\u001b[0m\u001b[0;34m)\u001b[0m\u001b[0;34m\u001b[0m\u001b[0;34m\u001b[0m\u001b[0m\n",
            "\u001b[0;31mFileNotFoundError\u001b[0m: [Errno 2] No such file or directory: 'Python_Functions_Assignment.docx'"
          ]
        }
      ]
    },
    {
      "cell_type": "code",
      "source": [
        "#8.\n",
        "\n",
        "\n",
        "data = [(1, 5), (3, 1), (2, 4), (5, 2)]\n",
        "\n",
        "\n",
        "sorted_data = sorted(data, key=lambda x: x[1])\n",
        "\n",
        "print(sorted_data)"
      ],
      "metadata": {
        "colab": {
          "base_uri": "https://localhost:8080/"
        },
        "id": "9e7Gydmjh5h1",
        "outputId": "ef97ab0b-7059-4d3b-f844-a96ec041f75a"
      },
      "execution_count": 8,
      "outputs": [
        {
          "output_type": "stream",
          "name": "stdout",
          "text": [
            "[(3, 1), (5, 2), (2, 4), (1, 5)]\n"
          ]
        }
      ]
    },
    {
      "cell_type": "code",
      "source": [
        "#9.\n",
        "\n",
        "def celsius_to_fahrenheit(celsius):\n",
        "  return (celsius * 9/5) + 32\n",
        "\n",
        "\n",
        "celsius_temperatures = [0, 10, 20, 30, 40]\n",
        "\n",
        "\n",
        "fahrenheit_temperatures = list(map(celsius_to_fahrenheit, celsius_temperatures))\n",
        "\n",
        "print(\"Celsius Temperatures:\", celsius_temperatures)\n",
        "print(\"Fahrenheit Temperatures:\", fahrenheit_temperatures)"
      ],
      "metadata": {
        "colab": {
          "base_uri": "https://localhost:8080/"
        },
        "id": "yMcDvvaQiKZd",
        "outputId": "099bdad0-a256-4abb-8389-c4d200ac9ecb"
      },
      "execution_count": 9,
      "outputs": [
        {
          "output_type": "stream",
          "name": "stdout",
          "text": [
            "Celsius Temperatures: [0, 10, 20, 30, 40]\n",
            "Fahrenheit Temperatures: [32.0, 50.0, 68.0, 86.0, 104.0]\n"
          ]
        }
      ]
    },
    {
      "cell_type": "code",
      "source": [
        "#10.\n",
        "def remove_vowels(string):\n",
        "  vowels = \"aeiouAEIOU\"\n",
        "  return \"\".join(filter(lambda char: char not in vowels, string))\n",
        "\n",
        "\n",
        "string = input(\"Enter a string: \")\n",
        "\n",
        "\n",
        "string_without_vowels = remove_vowels(string)\n",
        "\n",
        "\n",
        "print(\"String without vowels:\", string_without_vowels)"
      ],
      "metadata": {
        "colab": {
          "base_uri": "https://localhost:8080/"
        },
        "id": "6-nF4blaialk",
        "outputId": "1d9dc692-5459-4bc9-f55b-de9ac07d1e85"
      },
      "execution_count": 11,
      "outputs": [
        {
          "output_type": "stream",
          "name": "stdout",
          "text": [
            "Enter a string: I Love Python Programming\n",
            "String without vowels:  Lv Pythn Prgrmmng\n"
          ]
        }
      ]
    },
    {
      "cell_type": "code",
      "source": [
        "#11.\n",
        "\n",
        "def process_orders(orders):\n",
        "\n",
        "    return list(map(lambda order: (order[0], max(order[2] * order[3], 100)), orders))\n",
        "\n",
        "\n",
        "orders = [\n",
        "    [1, \"Learning Python,Mark Lutz\",40.95,4],\n",
        "    [2, \"Programming Python,Mark Lutz\",56.80,5],\n",
        "    [3, \"Head First, Paul Barry\",32.95,3],\n",
        "    [4, \"Einfuhrung in Python,Bernd Klein\",24.99, 3],\n",
        "\n",
        "]\n",
        "\n",
        "\n",
        "result = process_orders(orders)\n",
        "print(result)"
      ],
      "metadata": {
        "colab": {
          "base_uri": "https://localhost:8080/"
        },
        "id": "BFIgD7ElkOSp",
        "outputId": "639aacb3-3955-4997-e428-86359b1f5e23"
      },
      "execution_count": 13,
      "outputs": [
        {
          "output_type": "stream",
          "name": "stdout",
          "text": [
            "[(1, 163.8), (2, 284.0), (3, 100), (4, 100)]\n"
          ]
        }
      ]
    }
  ]
}