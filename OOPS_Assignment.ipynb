{
  "nbformat": 4,
  "nbformat_minor": 0,
  "metadata": {
    "colab": {
      "provenance": [],
      "include_colab_link": true
    },
    "kernelspec": {
      "name": "python3",
      "display_name": "Python 3"
    },
    "language_info": {
      "name": "python"
    }
  },
  "cells": [
    {
      "cell_type": "markdown",
      "metadata": {
        "id": "view-in-github",
        "colab_type": "text"
      },
      "source": [
        "<a href=\"https://colab.research.google.com/github/darkshadow4047/Aditya/blob/main/OOPS_Assignment.ipynb\" target=\"_parent\"><img src=\"https://colab.research.google.com/assets/colab-badge.svg\" alt=\"Open In Colab\"/></a>"
      ]
    },
    {
      "cell_type": "markdown",
      "source": [
        "#Python OOPs Questions"
      ],
      "metadata": {
        "id": "mgkR6TJ3hZUy"
      }
    },
    {
      "cell_type": "markdown",
      "source": [
        "1. What is Object-Oriented Programming (OOP)?\n",
        "-  Object- Oriented Programming (OOP) is a programing paradigm that orgaizes code around objects rather than action or logic. An object is a self- contained unit that contain both data(attributes) and behavior (methods).\n"
      ],
      "metadata": {
        "id": "sVSjaOaQho3u"
      }
    },
    {
      "cell_type": "markdown",
      "source": [
        "2. What is a class in OOP?\n",
        "-  In OOP, a class is like a blueprint or template for creating objects. It defines the properties(attributes) and behaviors(methods) that the objects created from the class will have."
      ],
      "metadata": {
        "id": "n1wzevbTitmV"
      }
    },
    {
      "cell_type": "markdown",
      "source": [
        "3. What is an object in OOP?\n",
        "-  In Object-Oriented Programming (OOP), an object is a self-contained unit that consists of both data and the methods (functions) that operate on that data. Essentially, an object is an instance of a class, which is a blueprint or template for creating objects.\n",
        "\n"
      ],
      "metadata": {
        "id": "MrINNky7jdDG"
      }
    },
    {
      "cell_type": "markdown",
      "source": [
        "4. What is the difference between abstraction and encapsulation?\n",
        "-  The difference between abstraction and encapsulation lies in what they aim to achieve and how they are implemented:\n",
        "#Abstraction\n",
        "1. Focus: Hides the complexity of an object by exposing only the essential features.\n",
        "2. Goal: Simplifies interactions by providing a clear and simplified interface, while hiding the implementation details.\n",
        "#Encapsulation\n",
        "1.Focus: Bundles data (attributes) and methods (functions) that operate on the data into a single unit (the class) and restricts direct access to the data from outside the object.\n",
        "2. Goal: Protects the internal state of an object from unintended or direct manipulation, ensuring that the object maintains a valid state."
      ],
      "metadata": {
        "id": "NKTOX4PTj4Ao"
      }
    },
    {
      "cell_type": "markdown",
      "source": [
        "5. What are dunder methods in Python?\n",
        "-  In Python, dunder methods (short for double underscore methods) are special methods that have double underscores before and after their names. These methods are also known as magic methods or special methods, and they allow you to define how certain operations should behave for your custom classes."
      ],
      "metadata": {
        "id": "xbOc-fRTkhB8"
      }
    },
    {
      "cell_type": "markdown",
      "source": [
        "6. Explain the concept of inheritance in OOP.\n",
        "-  Inheritance is a fundamental concept in Object-Oriented Programming (OOP) that allows a new class to inherit the properties and behaviors (methods) of an existing class. The new class is called the child class (or subclass), and the class being inherited from is called the parent class (or superclass)."
      ],
      "metadata": {
        "id": "UDPq_btck776"
      }
    },
    {
      "cell_type": "markdown",
      "source": [
        "7.  What is polymorphism in OOP?\n",
        "-  Polymorphism is another core concept in Object-Oriented Programming (OOP) that allows objects of different classes to be treated as objects of a common superclass. The term comes from Greek and means \"many forms.\" Essentially, polymorphism allows you to use a unified interface to interact with objects that can take many different forms or behaviors."
      ],
      "metadata": {
        "id": "a_ULHjFelZU2"
      }
    },
    {
      "cell_type": "markdown",
      "source": [
        "8.  How is encapsulation achieved in Python?\n",
        "-  Encapsulation in Python is achieved by bundling the data (attributes) and methods (functions) that operate on the data into a single unit, typically a class. More importantly, encapsulation also involves controlling access to the internal state of an object, ensuring that the data is not directly accessible or modifiable from outside the object. This helps protect the integrity of the object's data by controlling how it is accessed or modified."
      ],
      "metadata": {
        "id": "2b0F9zPRlq3M"
      }
    },
    {
      "cell_type": "markdown",
      "source": [
        "9. What is a constructor in Python?\n",
        "-  A constructor in Python is a special method that is automatically called when a new instance (object) of a class is created. Its primary purpose is to initialize the object's attributes and set up any necessary state for the object. In Python, the constructor is defined using the __init__ method."
      ],
      "metadata": {
        "id": "lGlAdZ_0l8ki"
      }
    },
    {
      "cell_type": "markdown",
      "source": [
        "10. What are class and static methods in Python?\n",
        "-  In Python, class methods and static methods are two types of methods that belong to a class but differ in how they interact with the class and its instances. Both methods are used in specific scenarios where you might not need to operate on an instance of the class, but still need to associate behavior with the class itself."
      ],
      "metadata": {
        "id": "DKiQdzFnmXzq"
      }
    },
    {
      "cell_type": "markdown",
      "source": [
        "11. What is method overloading in Python?\n",
        "-  Method overloading is a concept where multiple methods have the same name but differ in the number or type of their parameters. This allows a class to handle different inputs or arguments in a single method. In many programming languages (like Java or C++), method overloading is a common feature. However, Python does not support method overloading in the traditional sense."
      ],
      "metadata": {
        "id": "60zoO_LPmnTG"
      }
    },
    {
      "cell_type": "markdown",
      "source": [
        "12. What is method overriding in OOP?\n",
        "-  Method overriding is a feature in Object-Oriented Programming (OOP) where a subclass provides its own specific implementation of a method that is already defined in its superclass. The new method in the subclass replaces or overrides the method of the superclass. This allows the subclass to modify or extend the behavior of a method inherited from the parent class."
      ],
      "metadata": {
        "id": "Cpi55hKrm5aP"
      }
    },
    {
      "cell_type": "markdown",
      "source": [
        "13. What is a property decorator in Python?\n",
        "-  The @property decorator in Python is used to define a method that behaves like an attribute. It allows you to define getter, setter, and deleter methods for an attribute, while still accessing them like regular attributes without needing to call them as methods.\n",
        "\n",
        "In other words, the @property decorator allows you to define a method that can be accessed like an attribute, but behind the scenes, it provides additional functionality, such as validation, computation, or access control."
      ],
      "metadata": {
        "id": "jUWas8l4nLZO"
      }
    },
    {
      "cell_type": "markdown",
      "source": [
        "14. Why is polymorphism important in OOP?\n",
        "-  Polymorphism is one of the key principles of Object-Oriented Programming (OOP), and it plays a critical role in making code more flexible, reusable, and maintainable. The word \"polymorphism\" comes from the Greek words \"poly\" (meaning many) and \"morph\" (meaning form or shape), so it literally means \"many forms.\" In the context of OOP, polymorphism allows objects of different classes to be treated as objects of a common superclass, and the same method name can behave differently depending on the object that is calling it."
      ],
      "metadata": {
        "id": "mhrXbYqinkSS"
      }
    },
    {
      "cell_type": "markdown",
      "source": [
        "15. What is an abstract class in Python?\n",
        "-  An abstract class in Python is a class that cannot be instantiated directly. It serves as a blueprint for other classes and can define methods that must be implemented by subclasses. Abstract classes allow you to define a common interface for a group of related classes, enforcing a contract that the subclasses must follow."
      ],
      "metadata": {
        "id": "B3HIjVb-n9yh"
      }
    },
    {
      "cell_type": "markdown",
      "source": [
        "16. What are the advantages of OOP?\n",
        "-  Object-Oriented Programming (OOP) is a widely-used programming paradigm that organizes software design around objects—data structures that contain both data (attributes) and methods (functions). OOP brings several advantages that make it easier to develop, maintain, and extend software systems."
      ],
      "metadata": {
        "id": "4DWKnFSEobHS"
      }
    },
    {
      "cell_type": "markdown",
      "source": [
        "17. What is the difference between a class variable and an instance variable?\n",
        "-  n Object-Oriented Programming (OOP), class variables and instance variables are both used to store data, but they have different scopes, behaviors, and uses. Here’s a breakdown of their differences:\n",
        "1. An instance variable is a variable that is specific to an instance (or object) of a class. Each object has its own copy of the instance variables and on the other hand a class variable is a variable that is shared by all instances of the class. It is defined within the class but outside of any methods.\n",
        "2. They are usually defined within the __init__() method (the constructor) and are accessed using self, which refers to the current instance whereas Class variables are not tied to a specific instance; instead, they are tied to the class itself. All instances of the class share the same value for the class variable.\n"
      ],
      "metadata": {
        "id": "Y-Zx9DpjoxhG"
      }
    },
    {
      "cell_type": "markdown",
      "source": [
        "18. What is multiple inheritance in Python?\n",
        "-  Multiple inheritance in Python refers to the ability of a class to inherit from more than one parent class. This allows a subclass to inherit attributes and methods from multiple classes, which can be useful for combining functionality from different sources. Python supports multiple inheritance, and it allows a class to derive from multiple base classes, giving it access to features from all of those base classes."
      ],
      "metadata": {
        "id": "3XWebyMYppXI"
      }
    },
    {
      "cell_type": "code",
      "source": [
        "# 19. Explain the purpose of ‘’__str__’ and ‘__repr__’ ‘ methods in Python.\n",
        "# In Python, both __str__ and __repr__ are special methods that provide a way to define how objects of a class should be represented as strings.\n",
        "#These methods are used to convert objects into string representations, but they serve slightly different purposes and are intended for different situations.\n",
        "\n"
      ],
      "metadata": {
        "id": "M-PzLiv3qVeS"
      },
      "execution_count": null,
      "outputs": []
    },
    {
      "cell_type": "markdown",
      "source": [
        "20. What is the significance of the ‘super()’ function in Python?\n",
        "-  The super() function in Python is used to call methods from a parent (super) class in a subclass. It provides a way to invoke methods of the superclass without directly referring to the superclass by name, making the code more maintainable and allowing for better support for multiple inheritance.\n",
        "\n",
        "\n"
      ],
      "metadata": {
        "id": "sVvXgNOBp61p"
      }
    },
    {
      "cell_type": "markdown",
      "source": [
        "21. What is the significance of the __del__ method in Python?\n",
        "-  The __del__ method in Python is a special method (also known as a \"destructor\") that is used to define the behavior when an object is about to be destroyed or deallocated. It is invoked when an object’s reference count drops to zero, which typically happens when there are no more references to the object, and the object is ready to be garbage collected.\n",
        "\n"
      ],
      "metadata": {
        "id": "9gq7ZaNGrBNo"
      }
    },
    {
      "cell_type": "markdown",
      "source": [
        "22. What is the difference between @staticmethod and @classmethod in Python?\n",
        "-  In Python, both @staticmethod and @classmethod are decorators that modify methods inside a class, but they serve different purposes and have distinct behaviors when it comes to accessing class and instance-level data.\n",
        "\n"
      ],
      "metadata": {
        "id": "b-8PlaHBrXyI"
      }
    },
    {
      "cell_type": "markdown",
      "source": [
        "23. How does polymorphism work in Python with inheritance?\n",
        "-  Polymorphism in Python, especially when used with inheritance, refers to the ability of different classes to define methods with the same name, but each class’s method can behave differently depending on the object that invokes it. This allows you to write flexible and reusable code that can work with objects of different types in a consistent way.\n",
        "\n"
      ],
      "metadata": {
        "id": "FXVlIl9brmrf"
      }
    },
    {
      "cell_type": "markdown",
      "source": [
        "24. What is method chaining in Python OOP?\n",
        "-  Method chaining in Python (and object-oriented programming in general) refers to the practice of calling multiple methods on the same object in a single line of code. This is made possible by having each method return the object itself (usually self), allowing successive method calls to be \"chained\" together.\n",
        "\n"
      ],
      "metadata": {
        "id": "LrurvQc0r2_I"
      }
    },
    {
      "cell_type": "markdown",
      "source": [
        "25. What is the purpose of the __call__ method in Python?\n",
        "-  In Python, the __call__ method is a special method that allows an instance of a class to be called like a function. When the __call__ method is defined in a class, an object of that class can be invoked as if it were a function. This is a powerful feature that can be used to make your objects behave in a more flexible and dynamic way.\n",
        "\n"
      ],
      "metadata": {
        "id": "pIZJQiDCsSOd"
      }
    },
    {
      "cell_type": "markdown",
      "source": [
        "#Practical Questions\n",
        "\n"
      ],
      "metadata": {
        "id": "Avi74q-fvcMd"
      }
    },
    {
      "cell_type": "code",
      "execution_count": null,
      "metadata": {
        "id": "4ovwk_qGe4Ft"
      },
      "outputs": [],
      "source": [
        "#Create a parent class Animal with a method speak() that prints a generic message. Create a child class Dog\n",
        "#that overrides the speak() method to print \"Bark!\"\n",
        "\n",
        "# Parent class\n",
        "class Animal:\n",
        "    def speak(self):\n",
        "        print(\"Generic animal sound\")\n",
        "\n",
        "# Child class\n",
        "class Dog(Animal):\n",
        "    def speak(self):\n",
        "        print(\"Bark!\")\n",
        "\n"
      ]
    },
    {
      "cell_type": "code",
      "source": [
        "animal = Animal()\n",
        "animal.speak()\n",
        "\n",
        "dog = Dog()\n",
        "dog.speak()\n"
      ],
      "metadata": {
        "colab": {
          "base_uri": "https://localhost:8080/"
        },
        "id": "1HJLx82kwrQf",
        "outputId": "aed508aa-d2bc-4a7f-ea7a-3c2f3c01bd47"
      },
      "execution_count": null,
      "outputs": [
        {
          "output_type": "stream",
          "name": "stdout",
          "text": [
            "Generic animal sound\n",
            "Bark!\n"
          ]
        }
      ]
    },
    {
      "cell_type": "code",
      "source": [
        "#2. Write a program to create an abstract class Shape with a method area(). Derive classes Circle and Rectangle\n",
        "# from it and implement the area() method in both.\n",
        "\n",
        "from abc import ABC, abstractmethod\n",
        "import math\n",
        "\n",
        "# Abstract base class\n",
        "class Shape(ABC):\n",
        "    @abstractmethod\n",
        "    def area(self):\n",
        "        pass\n",
        "\n",
        "class Shape(ABC):\n",
        "    @abstractmethod\n",
        "    def area(self):\n",
        "        pass\n",
        "\n",
        "# circle class derived shape\n",
        "class Circle(Shape):\n",
        "  def __init__(self, radius):\n",
        "    self.radius = radius\n",
        "\n",
        "  def area(self):\n",
        "    return math.pi * self.radius ** 2   #Area of circle:π * r^2\n",
        "\n",
        "#rectangle  class  derived from shape\n",
        "class Rectangle(Shape):\n",
        "  def __init__(self,width, height):\n",
        "   self.width = width\n",
        "   self.height = height\n",
        "\n",
        "   def area(self):\n",
        "    return self.width * height   ## Area of rectangle: width * height"
      ],
      "metadata": {
        "id": "MKdzSQFCw3SX"
      },
      "execution_count": null,
      "outputs": []
    },
    {
      "cell_type": "code",
      "source": [
        "circle = Circle(5)\n",
        "print(circle.area())"
      ],
      "metadata": {
        "colab": {
          "base_uri": "https://localhost:8080/"
        },
        "id": "b2b5uVyhzj1B",
        "outputId": "c9b77d34-c55a-46b0-f589-453a834802d5"
      },
      "execution_count": null,
      "outputs": [
        {
          "output_type": "stream",
          "name": "stdout",
          "text": [
            "78.53981633974483\n"
          ]
        }
      ]
    },
    {
      "source": [
        "#3. Implement a multi-level inheritance scenario where a class Vehicle has an attribute type. Derive a class Car\n",
        "# and further derive a class ElectricCar that adds a battery attribute.\n",
        "\n",
        "#Base class\n",
        "class Vehicle:\n",
        "    def __init__(self, vehicle_type):\n",
        "        self.vehicle_type = vehicle_type\n",
        "\n",
        "    def display_type(self):\n",
        "      print(f\"This is a {self.vehicle_type}\")\n",
        "\n",
        "# Derived class car. inheriting from vehicle\n",
        "\n",
        "class Car(Vehicle):\n",
        "    def __init__(self, vehicle_type, brand):\n",
        "        super().__init__(vehicle_type)\n",
        "        self.brand = brand\n",
        "\n",
        "    def display_brand(self):\n",
        "        print(f\"This is a {self.brand} car.\")\n",
        "\n",
        "# Further dsreuve a class ELectric car\n",
        "class ElectricCar(Car): # Changed class name to ElectricCar\n",
        "  def __init__(self,vehicle_type, brand, battery_capacity): # Corrected the typo in the method name\n",
        "    super().__init__(vehicle_type, brand)\n",
        "    self.battery_capacity = battery_capacity\n",
        "\n",
        "  def display_battery(self):\n",
        "    print(f\"This electric car has a {self.battery_capacity} kwh battery.\")"
      ],
      "cell_type": "code",
      "metadata": {
        "id": "R6qdKCAmoptP"
      },
      "execution_count": null,
      "outputs": []
    },
    {
      "cell_type": "code",
      "source": [
        "electric_car = ElectricCar(\"Car\", \"Tesla\", 75)\n",
        "electric_car.display_type()\n",
        "electric_car.display_brand()\n",
        "electric_car.display_battery()"
      ],
      "metadata": {
        "colab": {
          "base_uri": "https://localhost:8080/"
        },
        "id": "xWVaB9wUosZd",
        "outputId": "f7d6d5f1-6c7d-4c4a-87cb-c5badffef9ab"
      },
      "execution_count": null,
      "outputs": [
        {
          "output_type": "stream",
          "name": "stdout",
          "text": [
            "This is a Car\n",
            "This is a Tesla car.\n",
            "This electric car has a 75 kwh battery.\n"
          ]
        }
      ]
    },
    {
      "cell_type": "code",
      "source": [
        "#4. Implement a multi-level inheritance scenario where a class Vehicle has an attribute type. Derive a class Car\n",
        "#and further derive a class ElectricCar that adds a battery attribute.\n",
        "\n",
        "#Base class\n",
        "class Vehicle:\n",
        "    def __init__(self, vehicle_type):\n",
        "        self.vehicle_type = vehicle_type\n",
        "\n",
        "    def display_type(self):\n",
        "      print(f\"This is a {self.vehicle_type}\")\n",
        "\n",
        "# Derived class car. inheriting from vehicle\n",
        "\n",
        "class Car(Vehicle):\n",
        "    def __init__(self, vehicle_type, brand):\n",
        "        super().__init__(vehicle_type)\n",
        "        self.brand = brand\n",
        "\n",
        "    def display_brand(self):\n",
        "        print(f\"This is a {self.brand} car.\")\n",
        "\n",
        "# Further dsreuve a class ELectric car\n",
        "class ElectricCar(Car): # Changed class name to ElectricCar\n",
        "  def __init__(self,vehicle_type, brand, battery_capacity): # Corrected the typo in the method name\n",
        "    super().__init__(vehicle_type, brand)\n",
        "    self.battery_capacity = battery_capacity\n",
        "\n",
        "  def display_battery(self):\n",
        "    print(f\"This electric car has a {self.battery_capacity} kwh battery.\")\n"
      ],
      "metadata": {
        "id": "hF0gkRCJo7Nn"
      },
      "execution_count": null,
      "outputs": []
    },
    {
      "cell_type": "code",
      "source": [
        "electric_car = ElectricCar(\"Car\", \"Hudayi\", 75)\n",
        "electric_car.display_type()\n",
        "electric_car.display_brand()\n",
        "electric_car.display_battery()"
      ],
      "metadata": {
        "colab": {
          "base_uri": "https://localhost:8080/"
        },
        "id": "xkleQohkpowM",
        "outputId": "5105d673-9c04-49df-ae60-5910a0ddc4f4"
      },
      "execution_count": null,
      "outputs": [
        {
          "output_type": "stream",
          "name": "stdout",
          "text": [
            "This is a Car\n",
            "This is a Hudayi car.\n",
            "This electric car has a 75 kwh battery.\n"
          ]
        }
      ]
    },
    {
      "source": [
        "# Write a program to demonstrate encapsulation by creating a class BankAccount with private attributes\n",
        "# balance and methods to deposit, withdraw, and check balance.\n",
        "class BankAccount:\n",
        "\n",
        "  def __init__(self, initial_balance):\n",
        "    self.__balance = initial_balance\n",
        "\n",
        "  def deposit(self, amount):\n",
        "    if amount > 0:\n",
        "      self.__balance += amount\n",
        "      print(f\"Deposited ${amount}. New balance: ${self.__balance}\")\n",
        "\n",
        "    else:\n",
        "      print(f\"Depost amount must be positive\")\n",
        "\n",
        "    #method of withdraw money from account\n",
        "\n",
        "  def withdraw(self, amount):\n",
        "    # Use self.__balance to access the private attribute\n",
        "    if amount > 0 and amount <= self.__balance:\n",
        "      self.__balance -= amount  # Subtract the withdrawn amount\n",
        "      print(f\"Withdrew {amount}. New balance is {self.__balance}.\")\n",
        "    elif amount > self.__balance:\n",
        "      print(\"Insufficent balance. \")\n",
        "    else:\n",
        "      print(\"Withdrawal amount must be positive\")\n",
        "\n",
        "    # Method of check balance\n",
        "  def check_balance(self):\n",
        "    return self.__balance"
      ],
      "cell_type": "code",
      "metadata": {
        "id": "D5VNBNn30S8Z"
      },
      "execution_count": null,
      "outputs": []
    },
    {
      "cell_type": "code",
      "source": [
        "account = BankAccount(1000)\n",
        "account.deposit(500)\n",
        "account.withdraw(200)\n",
        "balance = account.check_balance()\n",
        "print(f\"Current balance: ${balance}\")"
      ],
      "metadata": {
        "colab": {
          "base_uri": "https://localhost:8080/"
        },
        "id": "Ju0DvTw4z_YO",
        "outputId": "1edc2349-3593-44ff-e932-3d83683f7fa8"
      },
      "execution_count": null,
      "outputs": [
        {
          "output_type": "stream",
          "name": "stdout",
          "text": [
            "Deposited $500. New balance: $1500\n",
            "Withdrew 200. New balance is 1300.\n",
            "Current balance: $1300\n"
          ]
        }
      ]
    },
    {
      "cell_type": "code",
      "source": [
        "#6.  Demonstrate runtime polymorphism using a method play() in a base class Instrument. Derive classes Guitar\n",
        "# and Piano that implement their own version of play().\n",
        "\n",
        "#base class instruments\n",
        "\n",
        "class Instrument:\n",
        "    def play(self):\n",
        "        print(\"Playing instrument\")\n",
        "\n",
        "\n",
        "# Derived class Guitar\n",
        "class Guitar:\n",
        "  def play(self):\n",
        "    print(\"Strumming the guitar\")\n",
        "\n",
        "\n",
        "# derived class piano\n",
        "class piano:\n",
        "  def play(self):\n",
        "    print(\"Playing piano\")\n",
        "\n",
        "\n",
        "# Function to demonstrate runtime polymorphism\n",
        "def play_instrument(instrument):\n",
        "    instrument.play()"
      ],
      "metadata": {
        "id": "6AAL6Gvc0cqp"
      },
      "execution_count": null,
      "outputs": []
    },
    {
      "cell_type": "code",
      "source": [
        "guitar = Guitar()\n",
        "piano = piano()\n",
        "\n",
        "play_instrument(guitar)\n",
        "play_instrument(piano)\n"
      ],
      "metadata": {
        "colab": {
          "base_uri": "https://localhost:8080/"
        },
        "id": "R5cryyRM2c9T",
        "outputId": "8c6a7db5-3c17-40a3-a8f3-f19462d299db"
      },
      "execution_count": null,
      "outputs": [
        {
          "output_type": "stream",
          "name": "stdout",
          "text": [
            "Strumming the guitar\n",
            "Playing piano\n"
          ]
        }
      ]
    },
    {
      "cell_type": "code",
      "source": [
        "#7.  Create a class MathOperations with a class method add_numbers() to add two numbers and a static\n",
        "# method subtract_numbers() to subtract two numbers.\n",
        "\n",
        "class MathOperations:\n",
        "    @classmethod\n",
        "    def add_numbers(cls, a, b):\n",
        "        return a + b\n",
        "\n",
        "    @staticmethod\n",
        "    def subtract_numbers(a, b):\n",
        "        return a - b"
      ],
      "metadata": {
        "id": "HIP6e_bm2i31"
      },
      "execution_count": null,
      "outputs": []
    },
    {
      "cell_type": "code",
      "source": [
        "result_add = MathOperations.add_numbers(5, 3)\n",
        "print(result_add)"
      ],
      "metadata": {
        "colab": {
          "base_uri": "https://localhost:8080/"
        },
        "id": "v14xv1Un28v6",
        "outputId": "78e64843-7f41-4f75-adf9-85ac992ab241"
      },
      "execution_count": null,
      "outputs": [
        {
          "output_type": "stream",
          "name": "stdout",
          "text": [
            "8\n"
          ]
        }
      ]
    },
    {
      "cell_type": "code",
      "source": [
        "result_subtract = MathOperations.subtract_numbers(22,9)\n",
        "print(result_subtract)"
      ],
      "metadata": {
        "colab": {
          "base_uri": "https://localhost:8080/"
        },
        "id": "SydJiAqR3OdP",
        "outputId": "c076a930-6b44-4620-9be5-9fde7b93ac26"
      },
      "execution_count": null,
      "outputs": [
        {
          "output_type": "stream",
          "name": "stdout",
          "text": [
            "13\n"
          ]
        }
      ]
    },
    {
      "cell_type": "code",
      "source": [
        "#8. Implement a class Person with a class method to count the total number of persons created.\n",
        "\n",
        "class Person:\n",
        "  total_persons = 0\n",
        "\n",
        "  def __init__(self, name):\n",
        "    self.name = name\n",
        "    Person.total_persons += 1\n",
        "\n",
        "  @classmethod\n",
        "  def get_total_persons(cls):\n",
        "    return cls.total_persons  # Changed total_ to total_persons"
      ],
      "metadata": {
        "id": "7T61No3H3aeF"
      },
      "execution_count": null,
      "outputs": []
    },
    {
      "cell_type": "code",
      "source": [
        "person1 = Person(\"Aditya\")\n",
        "person2 = Person(\"Sahil\")\n",
        "person3 = Person(\"Ram\")\n",
        "print(f\"Total persons created: {Person.get_total_persons()}\")\n"
      ],
      "metadata": {
        "colab": {
          "base_uri": "https://localhost:8080/"
        },
        "id": "IHKisYlU4Vec",
        "outputId": "74e8676b-e7a0-415d-d36a-eb06d97d6790"
      },
      "execution_count": null,
      "outputs": [
        {
          "output_type": "stream",
          "name": "stdout",
          "text": [
            "Total persons created: 3\n"
          ]
        }
      ]
    },
    {
      "cell_type": "code",
      "source": [
        "#9. Write a class Fraction with attributes numerator and denominator. Override the str method to display the\n",
        "# fraction as \"numerator/denominator\".\n",
        "\n",
        "\n",
        "class Fraction:\n",
        "  def __init__(self, numerator, denominator):\n",
        "    self.numerator = numerator\n",
        "    self.denominator = denominator\n",
        "\n",
        "  def __str__(self):\n",
        "    return f\"{self.numerator}/{self.denominator}\""
      ],
      "metadata": {
        "id": "Y_Iv6whG5h3P"
      },
      "execution_count": null,
      "outputs": []
    },
    {
      "cell_type": "code",
      "source": [
        "Fraction = Fraction(3,4)\n",
        "print(Fraction)"
      ],
      "metadata": {
        "colab": {
          "base_uri": "https://localhost:8080/"
        },
        "id": "BI4T7evi55pN",
        "outputId": "0e62a8ce-6017-4c13-b858-c9389c59ffea"
      },
      "execution_count": null,
      "outputs": [
        {
          "output_type": "stream",
          "name": "stdout",
          "text": [
            "3/4\n"
          ]
        }
      ]
    },
    {
      "cell_type": "code",
      "source": [
        "#10. Demonstrate operator overloading by creating a class Vector and overriding the add method to add two\n",
        "# vectors.\n",
        "\n",
        "\n",
        "class Vector:\n",
        "    def __init__(self, x, y):\n",
        "        # Initialize the vector with x and y components\n",
        "        self.x = x\n",
        "        self.y = y\n",
        "\n",
        "    # Overload the + operator using the __add__ method\n",
        "    def __add__(self, other):\n",
        "        if isinstance(other, Vector):\n",
        "            # Add the corresponding components of the two vectors\n",
        "            return Vector(self.x + other.x, self.y + other.y)\n",
        "        return NotImplemented\n",
        "\n",
        "    # Method to represent the vector as a string for easy printing\n",
        "    def __str__(self):\n",
        "        return f\"Vector({self.x}, {self.y})\"\n",
        "\n",
        "# Creating instances of Vector class\n",
        "vector1 = Vector(1, 2)\n",
        "vector2 = Vector(3, 4)\n",
        "\n",
        "# Adding two vectors using the overloaded + operator\n",
        "result_vector = vector1 + vector2\n",
        "\n",
        "# Printing the result of vector addition\n",
        "print(f\"Result of adding vectors: {result_vector}\")\n",
        "\n",
        "\n"
      ],
      "metadata": {
        "colab": {
          "base_uri": "https://localhost:8080/"
        },
        "id": "O3ozyzeK5-Q_",
        "outputId": "71e8e695-5156-4220-a25c-060e17321f62"
      },
      "execution_count": null,
      "outputs": [
        {
          "output_type": "stream",
          "name": "stdout",
          "text": [
            "Result of adding vectors: Vector(4, 6)\n"
          ]
        }
      ]
    },
    {
      "cell_type": "code",
      "source": [],
      "metadata": {
        "colab": {
          "base_uri": "https://localhost:8080/"
        },
        "id": "dPVOxe7-6lO7",
        "outputId": "0f481e34-2a89-48f5-e030-bd6697fd7728"
      },
      "execution_count": null,
      "outputs": [
        {
          "output_type": "stream",
          "name": "stdout",
          "text": [
            " Result of adding vector: None\n"
          ]
        }
      ]
    },
    {
      "cell_type": "code",
      "source": [
        "#11.  Create a class Person with attributes name and age. Add a method greet() that prints \"Hello, my name is\n",
        "#{name} and I am {age} years old.\n",
        "\n",
        "class Person:\n",
        "  def __init__(self, name, age):\n",
        "    self.name = name\n",
        "    self.age = age\n",
        "\n",
        "  def greet(self):\n",
        "    print(f\"Hello, my name is {self.name} and I am {self.age} years old.\")"
      ],
      "metadata": {
        "id": "rW1myEYnMjEG"
      },
      "execution_count": null,
      "outputs": []
    },
    {
      "cell_type": "code",
      "source": [
        "person1 = Person(\"Aditya\", 21)\n",
        "person1.greet()"
      ],
      "metadata": {
        "id": "nnKZ9h5c8Z4q",
        "colab": {
          "base_uri": "https://localhost:8080/"
        },
        "outputId": "e717b5c6-1f41-4023-9ae5-ae344862c028"
      },
      "execution_count": null,
      "outputs": [
        {
          "output_type": "stream",
          "name": "stdout",
          "text": [
            "Hello, my name is Aditya and I am 21 years old.\n"
          ]
        }
      ]
    },
    {
      "cell_type": "code",
      "source": [
        "#12.  Implement a class Student with attributes name and grades. Create a method average_grade() to compute\n",
        "#the average of the grades.\n",
        "\n",
        "class Student:\n",
        "    def __init__(self, name, grades):\n",
        "        self.name = name\n",
        "        self.grades = grades\n",
        "\n",
        "    def average_grade(self):\n",
        "        if len(self.grades) > 0:\n",
        "            return sum(self.grades) / len(self.grades)\n",
        "        else:\n",
        "            return 0  # Return 0 if there are no grades"
      ],
      "metadata": {
        "id": "M9gBa4GVN2T-"
      },
      "execution_count": null,
      "outputs": []
    },
    {
      "cell_type": "code",
      "source": [
        "student1 = Student(\"Aditya\", [85, 90, 78, 92])\n",
        "print(f\"{student1.name}'s average grade: {student1.average_grade()}\")"
      ],
      "metadata": {
        "colab": {
          "base_uri": "https://localhost:8080/"
        },
        "id": "hU2TV-LdOA6m",
        "outputId": "f57ecd8c-e526-415b-8abd-9d15fcd22a05"
      },
      "execution_count": null,
      "outputs": [
        {
          "output_type": "stream",
          "name": "stdout",
          "text": [
            "Aditya's average grade: 86.25\n"
          ]
        }
      ]
    },
    {
      "cell_type": "code",
      "source": [
        "#13. Create a class Rectangle with methods set_dimensions() to set the dimensions and area() to calculate the\n",
        "# area.\n",
        "\n",
        "class Rectangle:\n",
        "  def __init__(self):\n",
        "    self.length = 0\n",
        "    self.width = 0\n",
        "\n",
        "  def set_dimensions(self, length, width):\n",
        "    self.length = length\n",
        "    self.width = width\n",
        "\n",
        "\n",
        "  def area(self):\n",
        "    return self.length * self.width\n",
        "\n"
      ],
      "metadata": {
        "id": "gqm1Dl9KOo-j"
      },
      "execution_count": null,
      "outputs": []
    },
    {
      "cell_type": "code",
      "source": [
        "rectangle1 = Rectangle()\n",
        "rectangle1.set_dimensions(5, 3)\n",
        "print(f\"The area of the rectangle is: {rectangle1.area()} square units\")"
      ],
      "metadata": {
        "colab": {
          "base_uri": "https://localhost:8080/"
        },
        "id": "e6rcNdBOP4-U",
        "outputId": "f029c335-8f61-46c6-dcd1-7a9c3bcb2af9"
      },
      "execution_count": null,
      "outputs": [
        {
          "output_type": "stream",
          "name": "stdout",
          "text": [
            "The area of the rectangle is: 15 square units\n"
          ]
        }
      ]
    },
    {
      "cell_type": "code",
      "source": [
        "#14.  Create a class Employee with a method calculate_salary() that computes the salary based on hours worked\n",
        "#and hourly rate. Create a derived class Manager that adds a bonus to the salary.\n",
        "\n",
        "class Employee:\n",
        "    def __init__(self, name, hours_worked, hourly_rate):\n",
        "        self.name = name\n",
        "        self.hours_worked = hours_worked\n",
        "        self.hourly_rate = hourly_rate\n",
        "\n",
        "    def calculate_salary(self):\n",
        "        return self.hours_worked * self.hourly_rate\n",
        "\n",
        "class Manager(Employee):\n",
        "    def __init__(self, name, hours_worked, hourly_rate, bonus):\n",
        "        super().__init__(name, hours_worked, hourly_rate)\n",
        "        self.bonus = bonus\n",
        "\n",
        "    def calculate_salary(self):\n",
        "        base_salary = super().calculate_salary()\n",
        "        return base_salary + self.bonus\n",
        "\n",
        "# Example usage:\n",
        "employee1 = Employee(\"Adiya\", 160, 25)  # 160 hours, $25 per hour\n",
        "manager1 = Manager(\"Sahil\", 160, 30, 5000)  # 160 hours, $30 per hour, $5000 bonus\n",
        "\n",
        "print(f\"{employee1.name}'s salary is: ${employee1.calculate_salary()}\")\n",
        "print(f\"{manager1.name}'s salary is: ${manager1.calculate_salary()}\")"
      ],
      "metadata": {
        "colab": {
          "base_uri": "https://localhost:8080/"
        },
        "id": "XJLqf1e7QIuL",
        "outputId": "b1ae7838-1483-4026-e10e-916c6a97fba9"
      },
      "execution_count": null,
      "outputs": [
        {
          "output_type": "stream",
          "name": "stdout",
          "text": [
            "Adiya's salary is: $4000\n",
            "Sahil's salary is: $9800\n"
          ]
        }
      ]
    },
    {
      "cell_type": "code",
      "source": [
        "#15. Create a class Product with attributes name, price, and quantity. Implement a method total_price() that\n",
        "# calculates the total price of the product.\n",
        "\n",
        "class Product:\n",
        "  def __init__(self, name, price, quantity):\n",
        "    self.name = name\n",
        "    self.price = price\n",
        "    self.quantity = quantity\n",
        "\n",
        "  def total_price(self):\n",
        "    return self.price * self.quantity"
      ],
      "metadata": {
        "id": "TL3zfcG2TeIB"
      },
      "execution_count": null,
      "outputs": []
    },
    {
      "cell_type": "code",
      "source": [
        "product1 = Product(\"Laptop\", 1000, 3)  # Laptop with a price of $1000 and quantity of 3\n",
        "print(f\"Total price of {product1.name}: ${product1.total_price()}\")\n",
        "product2 = Product(\"Samsung Mobile\", 500, 4) # Samsung Mobile with a price of $500 and quantity of 4\n",
        "print(f\"Total price of {product2.name} : ${product2.total_price()}\")\n"
      ],
      "metadata": {
        "colab": {
          "base_uri": "https://localhost:8080/"
        },
        "id": "7G5_e2B4Vuy_",
        "outputId": "085ec6df-353f-4c98-c957-6f56b5579470"
      },
      "execution_count": null,
      "outputs": [
        {
          "output_type": "stream",
          "name": "stdout",
          "text": [
            "Total price of Laptop: $3000\n",
            "Total price of Samsung Mobile : $2000\n"
          ]
        }
      ]
    },
    {
      "cell_type": "code",
      "source": [
        "#16.  Create a class Animal with an abstract method sound(). Create two derived classes Cow and Sheep that\n",
        "# implement the sound() method.\n",
        "\n",
        "from abc import ABC, abstractmethod\n",
        "\n",
        "class Animal(ABC):\n",
        "  @abstractmethod\n",
        "  def sound(self):\n",
        "    pass\n",
        "\n",
        "class Cow(Animal):\n",
        "  def sound(self):\n",
        "    return \"Moo\"\n",
        "\n",
        "class Sheep(Animal):\n",
        "  def sound(self):\n",
        "    return \"Baa\""
      ],
      "metadata": {
        "id": "fSfzRq66WDgU"
      },
      "execution_count": null,
      "outputs": []
    },
    {
      "cell_type": "code",
      "source": [
        "cow = Cow()\n",
        "print(f\"The cow says: {cow.sound()}\")\n",
        "sheep = Sheep()\n",
        "print(f\"The sheep says: {sheep.sound()}\")"
      ],
      "metadata": {
        "colab": {
          "base_uri": "https://localhost:8080/"
        },
        "id": "PuSV9Z2ZYJON",
        "outputId": "380f893f-146f-4fab-a088-08aeeb44bcf3"
      },
      "execution_count": null,
      "outputs": [
        {
          "output_type": "stream",
          "name": "stdout",
          "text": [
            "The cow says: Moo\n",
            "The sheep says: Baa\n"
          ]
        }
      ]
    },
    {
      "cell_type": "code",
      "source": [
        "#17.  Create a class Book with attributes title, author, and year_published. Add a method get_book_info() that\n",
        "# returns a formatted string with the book's details.\n",
        "\n",
        "class Book:\n",
        "  def __init__(self, title, author, year_published):\n",
        "    self.title = title\n",
        "    self.author = author\n",
        "    self.year_published = year_published\n",
        "\n",
        "  def get_book_info(self):\n",
        "    return f\"Title: {self.title}\\nAuthor: {self.author}\\nYear Published: {self.year_published}\"\n"
      ],
      "metadata": {
        "id": "6tjqi-fQYjMs"
      },
      "execution_count": null,
      "outputs": []
    },
    {
      "cell_type": "code",
      "source": [
        "book1 = Book(\"The Alchemist\", \"Paulo Coelho\", 1988)\n",
        "print(book1.get_book_info())"
      ],
      "metadata": {
        "colab": {
          "base_uri": "https://localhost:8080/"
        },
        "id": "D4_u8U0EZyHW",
        "outputId": "c175076a-ac8b-4663-8f38-29c3bf08689f"
      },
      "execution_count": null,
      "outputs": [
        {
          "output_type": "stream",
          "name": "stdout",
          "text": [
            "Title: The Alchemist\n",
            "Author: Paulo Coelho\n",
            "Year Published: 1988\n"
          ]
        }
      ]
    },
    {
      "cell_type": "code",
      "source": [
        "#18.  Create a class House with attributes address and price. Create a derived class Mansion that adds an\n",
        "# attribute number_of_rooms.\n",
        "\n",
        "class House:\n",
        "  def __init__(self, address, price):\n",
        "    self.address = address\n",
        "    self.price = price\n",
        "\n",
        "\n",
        "class Manison(House):\n",
        "  def __init__(self, address, price, number_of_rooms):\n",
        "    super().__init__(address, price)\n",
        "    self.number_of_rooms = number_of_rooms"
      ],
      "metadata": {
        "id": "h5rue_G3aAtM"
      },
      "execution_count": null,
      "outputs": []
    },
    {
      "cell_type": "code",
      "source": [
        "house1 = House(\"123 Main St\", 250000)\n",
        "print(f\"Address: {house1.address}\\nPrice: ${house1.price}\")\n",
        "manison = Manison(\"456 Elm St\", 500000, 8)\n",
        "print(f\"Address: {manison.address}\\nPrice: ${manison.price}\\nNumber of Rooms: {manison.number_of_rooms}\")"
      ],
      "metadata": {
        "colab": {
          "base_uri": "https://localhost:8080/"
        },
        "id": "SvhJVfARa_7P",
        "outputId": "64ead67a-c6e4-42e5-9c5b-25f0f07a6b4f"
      },
      "execution_count": null,
      "outputs": [
        {
          "output_type": "stream",
          "name": "stdout",
          "text": [
            "Address: 123 Main St\n",
            "Price: $250000\n",
            "Address: 456 Elm St\n",
            "Price: $500000\n",
            "Number of Rooms: 8\n"
          ]
        }
      ]
    },
    {
      "cell_type": "code",
      "source": [],
      "metadata": {
        "id": "M5yy2mNMbH2g"
      },
      "execution_count": null,
      "outputs": []
    }
  ]
}