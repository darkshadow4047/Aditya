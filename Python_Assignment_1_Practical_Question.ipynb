{
  "nbformat": 4,
  "nbformat_minor": 0,
  "metadata": {
    "colab": {
      "provenance": [],
      "authorship_tag": "ABX9TyOandVx7t5x1sGonhz90bld",
      "include_colab_link": true
    },
    "kernelspec": {
      "name": "python3",
      "display_name": "Python 3"
    },
    "language_info": {
      "name": "python"
    }
  },
  "cells": [
    {
      "cell_type": "markdown",
      "metadata": {
        "id": "view-in-github",
        "colab_type": "text"
      },
      "source": [
        "<a href=\"https://colab.research.google.com/github/darkshadow4047/Aditya/blob/main/Python_Assignment_1_Practical_Question.ipynb\" target=\"_parent\"><img src=\"https://colab.research.google.com/assets/colab-badge.svg\" alt=\"Open In Colab\"/></a>"
      ]
    },
    {
      "cell_type": "code",
      "source": [
        " # Data Types and Structure Questions"
      ],
      "metadata": {
        "id": "_YtAKXkfFPqw"
      },
      "execution_count": 3,
      "outputs": []
    },
    {
      "cell_type": "code",
      "source": [
        "# 1. What are data structures, and why are they important?\n",
        "\n",
        "#Answer:- Data structures are fundamental concepts in computer science. They are specialized formats for organizing and storing data, enabling efficient access,manipulation."
      ],
      "metadata": {
        "id": "rvewnTKFFYkd"
      },
      "execution_count": 10,
      "outputs": []
    },
    {
      "cell_type": "code",
      "source": [
        "# 2.Explain the difference between mutable and immutable data types with examples.\n",
        "\n",
        " #Answer:- Mutable data types can be modified whereas we can not modify the data in immutable data types.\n",
        "# For example, lists are mutable whereas the tuple is immutable."
      ],
      "metadata": {
        "id": "brW_MCLGGFuC"
      },
      "execution_count": 9,
      "outputs": []
    },
    {
      "cell_type": "code",
      "source": [
        "#3.What are the main differences between lists and tuples in Python?\n",
        "\n",
        "#Answer:- List are represented using square brackets whereas tuples are represented as curved brackets. Lists are mutable whereas tuples are immutable that means we can modify data in list whereas we can not modify data in tuples."
      ],
      "metadata": {
        "id": "aqp1t5f0Glg9"
      },
      "execution_count": 11,
      "outputs": []
    },
    {
      "cell_type": "code",
      "source": [
        "#4.Describe how dictionaries store data?\n",
        "\n",
        "# Answer:-Dictionaries in Python store data in a key-value pair format."
      ],
      "metadata": {
        "id": "Fz9unxNdHQi8"
      },
      "execution_count": 13,
      "outputs": []
    },
    {
      "cell_type": "code",
      "source": [
        "#5.Why might you use a set instead of a list in Python?\n",
        "\n",
        "#Answer:-Set stores only unique values that means if there are duplicate values then set will automatically removes it.\n",
        "\n",
        "#Set also supports mathematical functions like Union, Intersection, Difference, Symmetric."
      ],
      "metadata": {
        "id": "7tdLlVf7H-ur"
      },
      "execution_count": 14,
      "outputs": []
    },
    {
      "cell_type": "code",
      "source": [
        "#6.What is a string in Python, and how is it different from a list?\n",
        "\n",
        "# Answer:- String is a sequence of characters enclosed within single ('...') or double quotes (\"...\").\n",
        "\n",
        "# They key differences b/w String and Lists are:-\n",
        "\n",
        "#String is immutable whereas list is mutable.\n",
        "\n",
        "#String is used to store text characters whereas lists are used to store variety of data types."
      ],
      "metadata": {
        "id": "zS-L1IIAIp2o"
      },
      "execution_count": 16,
      "outputs": []
    },
    {
      "cell_type": "code",
      "source": [
        "#7.How do tuples ensure data integrity in Python?\n",
        "\n",
        "# Answer:-Tuples in Python ensure data integrity primarily through their immutability. This means that once a tuple is created, its contents cannot be changed."
      ],
      "metadata": {
        "id": "BIMFbILeJagF"
      },
      "execution_count": 20,
      "outputs": []
    },
    {
      "cell_type": "code",
      "source": [
        "#8.What is a hash table, and how does it relate to dictionaries in Python?\n",
        "\n",
        "# Answer:-A hash table is a data structure that uses a hash function to map keys to specific locations within an array.Dictionaries store data in key-value pairs, where the keys are used to hash and find the corresponding values.\n",
        "#Dictionaries store data in key-value pairs, where the keys are used to hash and find the corresponding values."
      ],
      "metadata": {
        "id": "b3JacQW9JxKc"
      },
      "execution_count": 24,
      "outputs": []
    },
    {
      "cell_type": "code",
      "source": [
        "#9.Can lists contain different data types in Python?\n",
        "\n",
        "#Answer:- Lists can contain different data types in Python."
      ],
      "metadata": {
        "id": "siYoKvrpK6Pf"
      },
      "execution_count": 25,
      "outputs": []
    },
    {
      "cell_type": "code",
      "source": [
        "#10.Explain why strings are immutable in Python?\n",
        "\n",
        "#Answer:-Immutable objects can be easily cached. Since the value of a string never changes, its hash value (used for dictionary lookups) remains constant. This allows Python to cache the hash value, leading to faster dictionary lookups."
      ],
      "metadata": {
        "id": "o_qOaL3LLGir"
      },
      "execution_count": 26,
      "outputs": []
    },
    {
      "cell_type": "code",
      "source": [
        "#11.What advantages do dictionaries offer over lists for certain tasks?\n",
        "\n",
        "#Answer:-When you need fast lookups by a specific identifier (key).\n",
        "#When you want to store data in an associative manner (key-value pairs)."
      ],
      "metadata": {
        "id": "N3foK7p8LXH_"
      },
      "execution_count": 28,
      "outputs": []
    },
    {
      "cell_type": "code",
      "source": [
        "#12.Describe a scenario where using a tuple would be preferable over a list?\n",
        "\n",
        "#Answer:- We can use tuple whenever we need to store hostname, password or aadhar card number."
      ],
      "metadata": {
        "id": "le5BHshULxrE"
      },
      "execution_count": 29,
      "outputs": []
    },
    {
      "cell_type": "code",
      "source": [
        "#13.How do sets handle duplicate values in Python?\n",
        "\n",
        "# Answer:-Sets in Python handle duplicate values by automatically removing them.\n",
        "#A fundamental property of a set is that it can only contain unique elements\n",
        "#When you create a set from a list or other iterable containing duplicates, the set constructor (set()) automatically eliminates any duplicate values."
      ],
      "metadata": {
        "id": "P2Y_LHtlMIMd"
      },
      "execution_count": 35,
      "outputs": []
    },
    {
      "cell_type": "code",
      "source": [
        "\n",
        "#14.How does the “in” keyword work differently for lists and dictionaries?\n",
        "\n",
        "#Answer:-The in operator checks if a given value exists as an element within the list.\n",
        "#The in operator checks if a given value exists as a key within the dictionary."
      ],
      "metadata": {
        "id": "i6QfvthIM8gl"
      },
      "execution_count": 37,
      "outputs": []
    },
    {
      "cell_type": "code",
      "source": [
        "#15.Can you modify the elements of a tuple? Explain why or why not?\n",
        "\n",
        "#Answer:- It is not directly possible to modify the elements of a tuple in Python.\n",
        "#If an element within the tuple itself is mutable (like a list), we can modify that element directly."
      ],
      "metadata": {
        "id": "PJLV4GxNNePs"
      },
      "execution_count": 38,
      "outputs": []
    },
    {
      "cell_type": "code",
      "source": [
        "#16.What is a nested dictionary, and give an example of its use case?\n",
        "\n",
        "#Answer:-A nested dictionary is a dictionary within another dictionary. In simpler terms, it's like a dictionary that contains other dictionaries as values for some of its keys.\n",
        "# Use Case:- Imagine you're building an application to track student information. You could use a nested dictionary to store information about multiple students, where each student has multiple attributes"
      ],
      "metadata": {
        "id": "Gwb2W210OGp0"
      },
      "execution_count": 39,
      "outputs": []
    },
    {
      "cell_type": "code",
      "source": [
        "#17. Describe the time complexity of accessing elements in a dictionary?\n",
        "\n",
        "#Answer:-The time complexity of accessing elements in a Python dictionary is O(1) on average.\n",
        "# This implies that the time taken to access an element does not depend on the size of the dictionary."
      ],
      "metadata": {
        "id": "S-YNfBwPOq-f"
      },
      "execution_count": 40,
      "outputs": []
    },
    {
      "cell_type": "code",
      "source": [
        "#18.In what situations are lists preferred over dictionaries?\n",
        "\n",
        "#Answer:-If we need to iterate through the elements in a specific order (e.g., for processing, displaying, or performing calculations sequentially), lists are more suitable"
      ],
      "metadata": {
        "id": "Yymaal3PPG1f"
      },
      "execution_count": 41,
      "outputs": []
    },
    {
      "cell_type": "code",
      "source": [
        "#19.Why are dictionaries considered unordered, and how does that affect data retrieval?\n",
        "\n",
        "#Answer:-Dictionaries in Python are considered unordered because they do not guarantee any specific order for the key-value pairs."
      ],
      "metadata": {
        "id": "ULTwYseaPeD-"
      },
      "execution_count": 42,
      "outputs": []
    },
    {
      "cell_type": "code",
      "source": [
        "#20.Explain the difference between a list and a dictionary in terms of data retrieval.\n",
        "\n",
        "#Answer:-A list is an ordered collection of items, whereas a dictionary is an unordered data collection in a key: value pair"
      ],
      "metadata": {
        "id": "GnspQo0zPssw"
      },
      "execution_count": 43,
      "outputs": []
    },
    {
      "cell_type": "code",
      "source": [
        "# Practical Questions:-"
      ],
      "metadata": {
        "id": "3ZYU4BGSQZhc"
      },
      "execution_count": 44,
      "outputs": []
    },
    {
      "cell_type": "code",
      "execution_count": 2,
      "metadata": {
        "colab": {
          "base_uri": "https://localhost:8080/"
        },
        "id": "jbnq8IgVUcz0",
        "outputId": "dec41045-d95e-41cf-9b9c-f223e71ce5bf"
      },
      "outputs": [
        {
          "output_type": "stream",
          "name": "stdout",
          "text": [
            "Aditya\n",
            "<class 'str'>\n"
          ]
        }
      ],
      "source": [
        "# Q1\n",
        "My_name = \"Aditya\"\n",
        "print(My_name)\n",
        "print(type(My_name))"
      ]
    },
    {
      "cell_type": "code",
      "source": [
        "# Q2\n",
        "\n",
        "Stringg = \"Hello World\"\n",
        "\n",
        "print(len(Stringg))"
      ],
      "metadata": {
        "colab": {
          "base_uri": "https://localhost:8080/"
        },
        "id": "KkP1NNYfU9p6",
        "outputId": "130dcd90-5dd4-448e-f9d3-e91ecc153c13"
      },
      "execution_count": null,
      "outputs": [
        {
          "output_type": "stream",
          "name": "stdout",
          "text": [
            "11\n"
          ]
        }
      ]
    },
    {
      "cell_type": "code",
      "source": [
        "# Q3\n",
        "\n",
        "Stringg = \"Python Programming\"\n",
        "\n",
        "print(Stringg[0:3])"
      ],
      "metadata": {
        "colab": {
          "base_uri": "https://localhost:8080/"
        },
        "id": "d0no5N5BYRmV",
        "outputId": "4d88356b-182c-4fa3-b084-d594bfbb2d3c"
      },
      "execution_count": null,
      "outputs": [
        {
          "output_type": "stream",
          "name": "stdout",
          "text": [
            "Pyt\n"
          ]
        }
      ]
    },
    {
      "cell_type": "code",
      "source": [
        "# Q4\n",
        "\n",
        "a = \"hello world\"\n",
        "\n",
        "Stringg = print(a.upper())\n",
        "\n",
        "print (Stringg)"
      ],
      "metadata": {
        "colab": {
          "base_uri": "https://localhost:8080/"
        },
        "id": "tS2WzUPWg-vP",
        "outputId": "83b0d542-a961-48ac-95d8-963583f69298"
      },
      "execution_count": null,
      "outputs": [
        {
          "output_type": "stream",
          "name": "stdout",
          "text": [
            "HELLO WORLD\n",
            "None\n"
          ]
        }
      ]
    },
    {
      "cell_type": "code",
      "source": [
        " #Q5\n",
        "\n",
        "a = \" I like apples\"\n",
        "\n",
        "Replacee = a.replace(\"apples\", \"oranges\")\n",
        "print (Replacee)"
      ],
      "metadata": {
        "colab": {
          "base_uri": "https://localhost:8080/"
        },
        "id": "dFCCNA2Ine6S",
        "outputId": "23bca1ea-a946-4fef-9c0a-28db21fdf2d7"
      },
      "execution_count": null,
      "outputs": [
        {
          "output_type": "stream",
          "name": "stdout",
          "text": [
            " I like oranges\n"
          ]
        }
      ]
    },
    {
      "cell_type": "code",
      "source": [
        " #Q6\n",
        "\n",
        "a = [1,2,3,4,5]\n",
        "print(a[::1])\n",
        "print(type(a))"
      ],
      "metadata": {
        "colab": {
          "base_uri": "https://localhost:8080/"
        },
        "id": "or59tadGn7sN",
        "outputId": "c154817c-ac3a-4220-f165-080c8a005874"
      },
      "execution_count": null,
      "outputs": [
        {
          "output_type": "stream",
          "name": "stdout",
          "text": [
            "[1, 2, 3, 4, 5]\n",
            "<class 'list'>\n"
          ]
        }
      ]
    },
    {
      "cell_type": "code",
      "source": [
        " # Q7\n",
        "\n",
        "a = [1,2,3,4]\n",
        "print(a)\n",
        "a.append (10)\n",
        "print(a)"
      ],
      "metadata": {
        "colab": {
          "base_uri": "https://localhost:8080/"
        },
        "id": "EphR66YQoItl",
        "outputId": "ff35daf9-0db8-43bb-cf26-74b4e675381b"
      },
      "execution_count": null,
      "outputs": [
        {
          "output_type": "stream",
          "name": "stdout",
          "text": [
            "[1, 2, 3, 4]\n",
            "[1, 2, 3, 4, 10]\n"
          ]
        }
      ]
    },
    {
      "cell_type": "code",
      "source": [
        "# Q8\n",
        "\n",
        "a = [1,2,3,4,5]\n",
        "print(a)\n",
        "a.remove(3)\n",
        "print(a)"
      ],
      "metadata": {
        "colab": {
          "base_uri": "https://localhost:8080/"
        },
        "id": "VM-PInSxoffv",
        "outputId": "f68efe75-9ee4-4169-8b00-a32eaccc8b1c"
      },
      "execution_count": null,
      "outputs": [
        {
          "output_type": "stream",
          "name": "stdout",
          "text": [
            "[1, 2, 3, 4, 5]\n",
            "[1, 2, 4, 5]\n"
          ]
        }
      ]
    },
    {
      "cell_type": "code",
      "source": [
        "#Q9\n",
        "\n",
        "listt = ['a', 'b', 'c', 'd']\n",
        "\n",
        "print(listt[1])"
      ],
      "metadata": {
        "colab": {
          "base_uri": "https://localhost:8080/"
        },
        "id": "YTAPQZczoxfO",
        "outputId": "c5341458-54b4-4675-eaf8-b7feab3ac89c"
      },
      "execution_count": null,
      "outputs": [
        {
          "output_type": "stream",
          "name": "stdout",
          "text": [
            "b\n"
          ]
        }
      ]
    },
    {
      "cell_type": "code",
      "source": [
        "# Q10\n",
        "\n",
        "a = [10,20,30,40,50]\n",
        "print(a[::-1])"
      ],
      "metadata": {
        "id": "vY1nZBzYiow_",
        "colab": {
          "base_uri": "https://localhost:8080/"
        },
        "outputId": "c5c038e2-771b-4c99-aa59-146a0a32fc64"
      },
      "execution_count": null,
      "outputs": [
        {
          "output_type": "stream",
          "name": "stdout",
          "text": [
            "[50, 40, 30, 20, 10]\n"
          ]
        }
      ]
    },
    {
      "cell_type": "code",
      "source": [
        "#Q11\n",
        "\n",
        "a = (10,20,30)\n",
        "\n",
        "print(a)\n",
        "\n",
        "print(type(a))"
      ],
      "metadata": {
        "colab": {
          "base_uri": "https://localhost:8080/"
        },
        "id": "LJpOQ5ncsMPD",
        "outputId": "04a1c2a0-8309-4ddf-84dd-f77eb08914a6"
      },
      "execution_count": null,
      "outputs": [
        {
          "output_type": "stream",
          "name": "stdout",
          "text": [
            "(10, 20, 30)\n",
            "<class 'tuple'>\n"
          ]
        }
      ]
    },
    {
      "cell_type": "code",
      "source": [
        "#Q12\n",
        "\n",
        "a = ('apple', 'banana', 'cherry')\n",
        "\n",
        "print(a[0])"
      ],
      "metadata": {
        "colab": {
          "base_uri": "https://localhost:8080/"
        },
        "id": "BFj7CsI4sd35",
        "outputId": "7d8594ba-c1ab-4674-bed4-80aede1d826f"
      },
      "execution_count": null,
      "outputs": [
        {
          "output_type": "stream",
          "name": "stdout",
          "text": [
            "apple\n",
            "1\n"
          ]
        }
      ]
    },
    {
      "cell_type": "code",
      "source": [
        "\n",
        "#Q13\n",
        "tup = (1,2,3,2,4,2)\n",
        "print(tup.count(2))"
      ],
      "metadata": {
        "colab": {
          "base_uri": "https://localhost:8080/"
        },
        "id": "gFtCXORjs_U2",
        "outputId": "6eb3c707-ff4d-4b78-8206-e6dc906d0a6e"
      },
      "execution_count": null,
      "outputs": [
        {
          "output_type": "stream",
          "name": "stdout",
          "text": [
            "3\n"
          ]
        }
      ]
    },
    {
      "cell_type": "code",
      "source": [
        "#Q14\n",
        "\n",
        "a = ('dog', 'cat', 'rabbit')\n",
        "\n",
        "Indexx_of_a = a.index('cat')\n",
        "print(Indexx_of_a)"
      ],
      "metadata": {
        "colab": {
          "base_uri": "https://localhost:8080/"
        },
        "id": "mxxRhRjTt6a7",
        "outputId": "c2cce943-3a2b-4a66-a596-70cc872fc811"
      },
      "execution_count": null,
      "outputs": [
        {
          "output_type": "stream",
          "name": "stdout",
          "text": [
            "1\n"
          ]
        }
      ]
    },
    {
      "cell_type": "code",
      "source": [
        "#Q15\n",
        "\n",
        "a = (\"apple\", \"banana\", \"orange\")\n",
        "\n",
        "if \"banana\" in a:\n",
        "    print(\"banana is in the tuple\")\n",
        "else:\n",
        "    print(\"banana is not in the tuple\")"
      ],
      "metadata": {
        "colab": {
          "base_uri": "https://localhost:8080/"
        },
        "id": "uQ7VVw1Au1w6",
        "outputId": "6def0a7f-ff7c-4fe3-bb2a-40d17667deda"
      },
      "execution_count": null,
      "outputs": [
        {
          "output_type": "stream",
          "name": "stdout",
          "text": [
            "banana is in the tuple\n"
          ]
        }
      ]
    },
    {
      "cell_type": "code",
      "source": [
        "#Q16\n",
        "\n",
        "a = {1,2,3,4,5}\n",
        "print(a)\n",
        "\n",
        "print(type(a))"
      ],
      "metadata": {
        "colab": {
          "base_uri": "https://localhost:8080/"
        },
        "id": "FVV9fzK6vqPq",
        "outputId": "3c8df315-c2e1-47f8-e712-5a6c79ebf6ed"
      },
      "execution_count": null,
      "outputs": [
        {
          "output_type": "stream",
          "name": "stdout",
          "text": [
            "{1, 2, 3, 4, 5}\n",
            "<class 'set'>\n"
          ]
        }
      ]
    },
    {
      "cell_type": "code",
      "source": [
        "#Q17\n",
        "\n",
        "a = {1,2,3,4}\n",
        "print(a)\n",
        "\n",
        "a.add(6)\n",
        "\n",
        "print(a)"
      ],
      "metadata": {
        "colab": {
          "base_uri": "https://localhost:8080/"
        },
        "id": "emOjZt_Uv5wh",
        "outputId": "37be5036-1743-48fe-ad23-f32f42bdf9f5"
      },
      "execution_count": null,
      "outputs": [
        {
          "output_type": "stream",
          "name": "stdout",
          "text": [
            "{1, 2, 3, 4}\n",
            "{1, 2, 3, 4, 6}\n"
          ]
        }
      ]
    },
    {
      "cell_type": "code",
      "source": [
        "#Q18\n",
        "\n",
        "a = (10,20,30)\n",
        "\n",
        "print(a)\n",
        "\n",
        "print(type(a))"
      ],
      "metadata": {
        "colab": {
          "base_uri": "https://localhost:8080/"
        },
        "id": "WvIDgOVGwiUr",
        "outputId": "60038c74-b950-4bb5-d75b-90f8995ceb83"
      },
      "execution_count": null,
      "outputs": [
        {
          "output_type": "stream",
          "name": "stdout",
          "text": [
            "(10, 20, 30)\n",
            "<class 'tuple'>\n"
          ]
        }
      ]
    },
    {
      "cell_type": "code",
      "source": [
        "#Q19\n",
        "\n",
        "a = ('apple', 'banana', 'cherry')\n",
        "\n",
        "print(a[0])"
      ],
      "metadata": {
        "colab": {
          "base_uri": "https://localhost:8080/"
        },
        "id": "Y-oq_N-ew04n",
        "outputId": "b2582ad3-d230-4400-c802-d64865da795a"
      },
      "execution_count": null,
      "outputs": [
        {
          "output_type": "stream",
          "name": "stdout",
          "text": [
            "apple\n"
          ]
        }
      ]
    },
    {
      "cell_type": "code",
      "source": [
        "#Q20\n",
        "tup = (1,2,3,2,4,2)\n",
        "print(tup.count(2))"
      ],
      "metadata": {
        "colab": {
          "base_uri": "https://localhost:8080/"
        },
        "id": "eYvmTB8OxACN",
        "outputId": "3d01f70e-c4c7-4760-b789-c56178aca74a"
      },
      "execution_count": null,
      "outputs": [
        {
          "output_type": "stream",
          "name": "stdout",
          "text": [
            "3\n"
          ]
        }
      ]
    },
    {
      "cell_type": "code",
      "source": [
        "#Q21\n",
        "\n",
        "\n",
        "a = ('dog', 'cat', 'rabbit')\n",
        "\n",
        "Indexx_of_a = a.index('cat')\n",
        "print(Indexx_of_a)"
      ],
      "metadata": {
        "colab": {
          "base_uri": "https://localhost:8080/"
        },
        "id": "C8INlPrNxKBL",
        "outputId": "eda64040-30d8-4063-94fb-675cfee2d635"
      },
      "execution_count": null,
      "outputs": [
        {
          "output_type": "stream",
          "name": "stdout",
          "text": [
            "1\n"
          ]
        }
      ]
    },
    {
      "cell_type": "code",
      "source": [
        "#Q22\n",
        "\n",
        "a = (\"apple\", \"banana\", \"orange\")\n",
        "\n",
        "if \"banana\" in a:\n",
        "    print(\"banana is in the tuple\")\n",
        "else:\n",
        "    print(\"banana is not in the tuple\")"
      ],
      "metadata": {
        "colab": {
          "base_uri": "https://localhost:8080/"
        },
        "id": "QFZcX5hlxUaH",
        "outputId": "d402eeff-b161-426a-a47c-ced6fa21d10a"
      },
      "execution_count": null,
      "outputs": [
        {
          "output_type": "stream",
          "name": "stdout",
          "text": [
            "banana is in the tuple\n"
          ]
        }
      ]
    },
    {
      "cell_type": "code",
      "source": [
        "#Q23\n",
        "\n",
        "a = {1,2,3,4,5}\n",
        "print(a)\n",
        "\n",
        "print(type(a))"
      ],
      "metadata": {
        "colab": {
          "base_uri": "https://localhost:8080/"
        },
        "id": "-EAR7Ua5xaFW",
        "outputId": "8680102a-0723-4151-a9c9-a5e4e49fb8be"
      },
      "execution_count": null,
      "outputs": [
        {
          "output_type": "stream",
          "name": "stdout",
          "text": [
            "{1, 2, 3, 4, 5}\n",
            "<class 'set'>\n"
          ]
        }
      ]
    },
    {
      "cell_type": "code",
      "source": [
        "#Q24\n",
        "\n",
        "a = {1,2,3,4}\n",
        "print(a)\n",
        "\n",
        "a.add(6)\n",
        "\n",
        "print(a)"
      ],
      "metadata": {
        "id": "qI7ts7LOxn_Z",
        "outputId": "4398919f-9d24-4d1a-82a4-5efecfb40ae0",
        "colab": {
          "base_uri": "https://localhost:8080/"
        }
      },
      "execution_count": null,
      "outputs": [
        {
          "output_type": "stream",
          "name": "stdout",
          "text": [
            "{1, 2, 3, 4}\n",
            "{1, 2, 3, 4, 6}\n"
          ]
        }
      ]
    }
  ]
}