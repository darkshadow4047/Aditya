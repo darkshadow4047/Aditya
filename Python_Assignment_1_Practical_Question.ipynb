{
  "nbformat": 4,
  "nbformat_minor": 0,
  "metadata": {
    "colab": {
      "provenance": [],
      "authorship_tag": "ABX9TyPyClr6OuV4UTRvNPhTd7TD",
      "include_colab_link": true
    },
    "kernelspec": {
      "name": "python3",
      "display_name": "Python 3"
    },
    "language_info": {
      "name": "python"
    }
  },
  "cells": [
    {
      "cell_type": "markdown",
      "metadata": {
        "id": "view-in-github",
        "colab_type": "text"
      },
      "source": [
        "<a href=\"https://colab.research.google.com/github/darkshadow4047/Aditya/blob/main/Python_Assignment_1_Practical_Question.ipynb\" target=\"_parent\"><img src=\"https://colab.research.google.com/assets/colab-badge.svg\" alt=\"Open In Colab\"/></a>"
      ]
    },
    {
      "cell_type": "code",
      "execution_count": null,
      "metadata": {
        "colab": {
          "base_uri": "https://localhost:8080/"
        },
        "id": "jbnq8IgVUcz0",
        "outputId": "92712b6e-269a-42eb-8fb7-a47f8e6e8080"
      },
      "outputs": [
        {
          "output_type": "stream",
          "name": "stdout",
          "text": [
            "Aditya\n",
            "<class 'str'>\n"
          ]
        }
      ],
      "source": [
        "# Q1\n",
        "My_name = \"Aditya\"\n",
        "print(My_name)\n",
        "print(type(My_name))"
      ]
    },
    {
      "cell_type": "code",
      "source": [
        "# Q2\n",
        "\n",
        "Stringg = \"Hello World\"\n",
        "\n",
        "print(len(Stringg))"
      ],
      "metadata": {
        "colab": {
          "base_uri": "https://localhost:8080/"
        },
        "id": "KkP1NNYfU9p6",
        "outputId": "130dcd90-5dd4-448e-f9d3-e91ecc153c13"
      },
      "execution_count": null,
      "outputs": [
        {
          "output_type": "stream",
          "name": "stdout",
          "text": [
            "11\n"
          ]
        }
      ]
    },
    {
      "cell_type": "code",
      "source": [
        "# Q3\n",
        "\n",
        "Stringg = \"Python Programming\"\n",
        "\n",
        "print(Stringg[0:3])"
      ],
      "metadata": {
        "colab": {
          "base_uri": "https://localhost:8080/"
        },
        "id": "d0no5N5BYRmV",
        "outputId": "4d88356b-182c-4fa3-b084-d594bfbb2d3c"
      },
      "execution_count": null,
      "outputs": [
        {
          "output_type": "stream",
          "name": "stdout",
          "text": [
            "Pyt\n"
          ]
        }
      ]
    },
    {
      "cell_type": "code",
      "source": [
        "# Q4\n",
        "\n",
        "a = \"hello world\"\n",
        "\n",
        "Stringg = print(a.upper())\n",
        "\n",
        "print (Stringg)"
      ],
      "metadata": {
        "colab": {
          "base_uri": "https://localhost:8080/"
        },
        "id": "tS2WzUPWg-vP",
        "outputId": "83b0d542-a961-48ac-95d8-963583f69298"
      },
      "execution_count": null,
      "outputs": [
        {
          "output_type": "stream",
          "name": "stdout",
          "text": [
            "HELLO WORLD\n",
            "None\n"
          ]
        }
      ]
    },
    {
      "cell_type": "code",
      "source": [
        " #Q5\n",
        "\n",
        "a = \" I like apples\"\n",
        "\n",
        "Replacee = a.replace(\"apples\", \"oranges\")\n",
        "print (Replacee)"
      ],
      "metadata": {
        "colab": {
          "base_uri": "https://localhost:8080/"
        },
        "id": "dFCCNA2Ine6S",
        "outputId": "23bca1ea-a946-4fef-9c0a-28db21fdf2d7"
      },
      "execution_count": null,
      "outputs": [
        {
          "output_type": "stream",
          "name": "stdout",
          "text": [
            " I like oranges\n"
          ]
        }
      ]
    },
    {
      "cell_type": "code",
      "source": [
        " #Q6\n",
        "\n",
        "a = [1,2,3,4,5]\n",
        "print(a[::1])\n",
        "print(type(a))"
      ],
      "metadata": {
        "colab": {
          "base_uri": "https://localhost:8080/"
        },
        "id": "or59tadGn7sN",
        "outputId": "c154817c-ac3a-4220-f165-080c8a005874"
      },
      "execution_count": null,
      "outputs": [
        {
          "output_type": "stream",
          "name": "stdout",
          "text": [
            "[1, 2, 3, 4, 5]\n",
            "<class 'list'>\n"
          ]
        }
      ]
    },
    {
      "cell_type": "code",
      "source": [
        " # Q7\n",
        "\n",
        "a = [1,2,3,4]\n",
        "print(a)\n",
        "a.append (10)\n",
        "print(a)"
      ],
      "metadata": {
        "colab": {
          "base_uri": "https://localhost:8080/"
        },
        "id": "EphR66YQoItl",
        "outputId": "ff35daf9-0db8-43bb-cf26-74b4e675381b"
      },
      "execution_count": null,
      "outputs": [
        {
          "output_type": "stream",
          "name": "stdout",
          "text": [
            "[1, 2, 3, 4]\n",
            "[1, 2, 3, 4, 10]\n"
          ]
        }
      ]
    },
    {
      "cell_type": "code",
      "source": [
        "# Q8\n",
        "\n",
        "a = [1,2,3,4,5]\n",
        "print(a)\n",
        "a.remove(3)\n",
        "print(a)"
      ],
      "metadata": {
        "colab": {
          "base_uri": "https://localhost:8080/"
        },
        "id": "VM-PInSxoffv",
        "outputId": "f68efe75-9ee4-4169-8b00-a32eaccc8b1c"
      },
      "execution_count": null,
      "outputs": [
        {
          "output_type": "stream",
          "name": "stdout",
          "text": [
            "[1, 2, 3, 4, 5]\n",
            "[1, 2, 4, 5]\n"
          ]
        }
      ]
    },
    {
      "cell_type": "code",
      "source": [
        "#Q9\n",
        "\n",
        "listt = ['a', 'b', 'c', 'd']\n",
        "\n",
        "print(listt[1])"
      ],
      "metadata": {
        "colab": {
          "base_uri": "https://localhost:8080/"
        },
        "id": "YTAPQZczoxfO",
        "outputId": "c5341458-54b4-4675-eaf8-b7feab3ac89c"
      },
      "execution_count": null,
      "outputs": [
        {
          "output_type": "stream",
          "name": "stdout",
          "text": [
            "b\n"
          ]
        }
      ]
    },
    {
      "cell_type": "code",
      "source": [
        "# Q10\n",
        "\n",
        "a = [10,20,30,40,50]\n",
        "print(a[::-1])"
      ],
      "metadata": {
        "id": "vY1nZBzYiow_",
        "colab": {
          "base_uri": "https://localhost:8080/"
        },
        "outputId": "c5c038e2-771b-4c99-aa59-146a0a32fc64"
      },
      "execution_count": null,
      "outputs": [
        {
          "output_type": "stream",
          "name": "stdout",
          "text": [
            "[50, 40, 30, 20, 10]\n"
          ]
        }
      ]
    },
    {
      "cell_type": "code",
      "source": [
        "#Q11\n",
        "\n",
        "a = (10,20,30)\n",
        "\n",
        "print(a)\n",
        "\n",
        "print(type(a))"
      ],
      "metadata": {
        "colab": {
          "base_uri": "https://localhost:8080/"
        },
        "id": "LJpOQ5ncsMPD",
        "outputId": "04a1c2a0-8309-4ddf-84dd-f77eb08914a6"
      },
      "execution_count": null,
      "outputs": [
        {
          "output_type": "stream",
          "name": "stdout",
          "text": [
            "(10, 20, 30)\n",
            "<class 'tuple'>\n"
          ]
        }
      ]
    },
    {
      "cell_type": "code",
      "source": [
        "#Q12\n",
        "\n",
        "a = ('apple', 'banana', 'cherry')\n",
        "\n",
        "print(a[0])"
      ],
      "metadata": {
        "colab": {
          "base_uri": "https://localhost:8080/"
        },
        "id": "BFj7CsI4sd35",
        "outputId": "7d8594ba-c1ab-4674-bed4-80aede1d826f"
      },
      "execution_count": null,
      "outputs": [
        {
          "output_type": "stream",
          "name": "stdout",
          "text": [
            "apple\n",
            "1\n"
          ]
        }
      ]
    },
    {
      "cell_type": "code",
      "source": [
        "\n",
        "#Q13\n",
        "tup = (1,2,3,2,4,2)\n",
        "print(tup.count(2))"
      ],
      "metadata": {
        "colab": {
          "base_uri": "https://localhost:8080/"
        },
        "id": "gFtCXORjs_U2",
        "outputId": "6eb3c707-ff4d-4b78-8206-e6dc906d0a6e"
      },
      "execution_count": null,
      "outputs": [
        {
          "output_type": "stream",
          "name": "stdout",
          "text": [
            "3\n"
          ]
        }
      ]
    },
    {
      "cell_type": "code",
      "source": [
        "#Q14\n",
        "\n",
        "a = ('dog', 'cat', 'rabbit')\n",
        "\n",
        "Indexx_of_a = a.index('cat')\n",
        "print(Indexx_of_a)"
      ],
      "metadata": {
        "colab": {
          "base_uri": "https://localhost:8080/"
        },
        "id": "mxxRhRjTt6a7",
        "outputId": "c2cce943-3a2b-4a66-a596-70cc872fc811"
      },
      "execution_count": null,
      "outputs": [
        {
          "output_type": "stream",
          "name": "stdout",
          "text": [
            "1\n"
          ]
        }
      ]
    },
    {
      "cell_type": "code",
      "source": [
        "#Q15\n",
        "\n",
        "a = (\"apple\", \"banana\", \"orange\")\n",
        "\n",
        "if \"banana\" in a:\n",
        "    print(\"banana is in the tuple\")\n",
        "else:\n",
        "    print(\"banana is not in the tuple\")"
      ],
      "metadata": {
        "colab": {
          "base_uri": "https://localhost:8080/"
        },
        "id": "uQ7VVw1Au1w6",
        "outputId": "6def0a7f-ff7c-4fe3-bb2a-40d17667deda"
      },
      "execution_count": null,
      "outputs": [
        {
          "output_type": "stream",
          "name": "stdout",
          "text": [
            "banana is in the tuple\n"
          ]
        }
      ]
    },
    {
      "cell_type": "code",
      "source": [
        "#Q16\n",
        "\n",
        "a = {1,2,3,4,5}\n",
        "print(a)\n",
        "\n",
        "print(type(a))"
      ],
      "metadata": {
        "colab": {
          "base_uri": "https://localhost:8080/"
        },
        "id": "FVV9fzK6vqPq",
        "outputId": "3c8df315-c2e1-47f8-e712-5a6c79ebf6ed"
      },
      "execution_count": null,
      "outputs": [
        {
          "output_type": "stream",
          "name": "stdout",
          "text": [
            "{1, 2, 3, 4, 5}\n",
            "<class 'set'>\n"
          ]
        }
      ]
    },
    {
      "cell_type": "code",
      "source": [
        "#Q17\n",
        "\n",
        "a = {1,2,3,4}\n",
        "print(a)\n",
        "\n",
        "a.add(6)\n",
        "\n",
        "print(a)"
      ],
      "metadata": {
        "colab": {
          "base_uri": "https://localhost:8080/"
        },
        "id": "emOjZt_Uv5wh",
        "outputId": "37be5036-1743-48fe-ad23-f32f42bdf9f5"
      },
      "execution_count": null,
      "outputs": [
        {
          "output_type": "stream",
          "name": "stdout",
          "text": [
            "{1, 2, 3, 4}\n",
            "{1, 2, 3, 4, 6}\n"
          ]
        }
      ]
    },
    {
      "cell_type": "code",
      "source": [
        "#Q18\n",
        "\n",
        "a = (10,20,30)\n",
        "\n",
        "print(a)\n",
        "\n",
        "print(type(a))"
      ],
      "metadata": {
        "colab": {
          "base_uri": "https://localhost:8080/"
        },
        "id": "WvIDgOVGwiUr",
        "outputId": "60038c74-b950-4bb5-d75b-90f8995ceb83"
      },
      "execution_count": null,
      "outputs": [
        {
          "output_type": "stream",
          "name": "stdout",
          "text": [
            "(10, 20, 30)\n",
            "<class 'tuple'>\n"
          ]
        }
      ]
    },
    {
      "cell_type": "code",
      "source": [
        "#Q19\n",
        "\n",
        "a = ('apple', 'banana', 'cherry')\n",
        "\n",
        "print(a[0])"
      ],
      "metadata": {
        "colab": {
          "base_uri": "https://localhost:8080/"
        },
        "id": "Y-oq_N-ew04n",
        "outputId": "b2582ad3-d230-4400-c802-d64865da795a"
      },
      "execution_count": null,
      "outputs": [
        {
          "output_type": "stream",
          "name": "stdout",
          "text": [
            "apple\n"
          ]
        }
      ]
    },
    {
      "cell_type": "code",
      "source": [
        "#Q20\n",
        "tup = (1,2,3,2,4,2)\n",
        "print(tup.count(2))"
      ],
      "metadata": {
        "colab": {
          "base_uri": "https://localhost:8080/"
        },
        "id": "eYvmTB8OxACN",
        "outputId": "3d01f70e-c4c7-4760-b789-c56178aca74a"
      },
      "execution_count": null,
      "outputs": [
        {
          "output_type": "stream",
          "name": "stdout",
          "text": [
            "3\n"
          ]
        }
      ]
    },
    {
      "cell_type": "code",
      "source": [
        "#Q21\n",
        "\n",
        "\n",
        "a = ('dog', 'cat', 'rabbit')\n",
        "\n",
        "Indexx_of_a = a.index('cat')\n",
        "print(Indexx_of_a)"
      ],
      "metadata": {
        "colab": {
          "base_uri": "https://localhost:8080/"
        },
        "id": "C8INlPrNxKBL",
        "outputId": "eda64040-30d8-4063-94fb-675cfee2d635"
      },
      "execution_count": null,
      "outputs": [
        {
          "output_type": "stream",
          "name": "stdout",
          "text": [
            "1\n"
          ]
        }
      ]
    },
    {
      "cell_type": "code",
      "source": [
        "#Q22\n",
        "\n",
        "a = (\"apple\", \"banana\", \"orange\")\n",
        "\n",
        "if \"banana\" in a:\n",
        "    print(\"banana is in the tuple\")\n",
        "else:\n",
        "    print(\"banana is not in the tuple\")"
      ],
      "metadata": {
        "colab": {
          "base_uri": "https://localhost:8080/"
        },
        "id": "QFZcX5hlxUaH",
        "outputId": "d402eeff-b161-426a-a47c-ced6fa21d10a"
      },
      "execution_count": null,
      "outputs": [
        {
          "output_type": "stream",
          "name": "stdout",
          "text": [
            "banana is in the tuple\n"
          ]
        }
      ]
    },
    {
      "cell_type": "code",
      "source": [
        "#Q23\n",
        "\n",
        "a = {1,2,3,4,5}\n",
        "print(a)\n",
        "\n",
        "print(type(a))"
      ],
      "metadata": {
        "colab": {
          "base_uri": "https://localhost:8080/"
        },
        "id": "-EAR7Ua5xaFW",
        "outputId": "8680102a-0723-4151-a9c9-a5e4e49fb8be"
      },
      "execution_count": null,
      "outputs": [
        {
          "output_type": "stream",
          "name": "stdout",
          "text": [
            "{1, 2, 3, 4, 5}\n",
            "<class 'set'>\n"
          ]
        }
      ]
    },
    {
      "cell_type": "code",
      "source": [
        "#Q24\n",
        "\n",
        "a = {1,2,3,4}\n",
        "print(a)\n",
        "\n",
        "a.add(6)\n",
        "\n",
        "print(a)"
      ],
      "metadata": {
        "id": "qI7ts7LOxn_Z",
        "outputId": "4398919f-9d24-4d1a-82a4-5efecfb40ae0",
        "colab": {
          "base_uri": "https://localhost:8080/"
        }
      },
      "execution_count": null,
      "outputs": [
        {
          "output_type": "stream",
          "name": "stdout",
          "text": [
            "{1, 2, 3, 4}\n",
            "{1, 2, 3, 4, 6}\n"
          ]
        }
      ]
    },
    {
      "cell_type": "markdown",
      "source": [],
      "metadata": {
        "id": "9XnSnhY5EsS5"
      }
    }
  ]
}